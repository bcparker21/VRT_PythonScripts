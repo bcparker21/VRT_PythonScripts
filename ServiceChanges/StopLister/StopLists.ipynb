{
 "cells": [
  {
   "cell_type": "code",
   "execution_count": 1,
   "metadata": {},
   "outputs": [],
   "source": [
    "import gtfstk as gt\n",
    "import pandas as pd\n",
    "import geopandas as gpd\n",
    "import numpy as np\n",
    "import tkinter as tk\n",
    "import requests, zipfile, io, os, xlsxwriter\n",
    "from tkinter import filedialog"
   ]
  },
  {
   "cell_type": "code",
   "execution_count": 2,
   "metadata": {},
   "outputs": [],
   "source": [
    "zip_file_url=r\"http://valleyregionaltransit.org/gtfs/VRT_Transit1.zip\"\n",
    "r = requests.get(zip_file_url)\n",
    "z = zipfile.ZipFile(io.BytesIO(r.content))\n",
    "z.extractall(\"gtfs\")\n",
    "gtfs_filename=os.path.basename(zip_file_url)\n",
    "gtfs_filename=os.path.splitext(gtfs_filename)[0]\n",
    "feed=gt.read_gtfs(\"gtfs\",dist_units='mi')"
   ]
  },
  {
   "cell_type": "code",
   "execution_count": 3,
   "metadata": {},
   "outputs": [],
   "source": [
    "route_names=feed.routes['route_short_name']\n",
    "route_namesArray=route_names.unique()\n",
    "route_names={i:route_namesArray[i] for i in range(len(route_names.unique()))}\n",
    "route_names.update([((len(route_names)+1),'All')])\n",
    "route_names=route_names.values()"
   ]
  },
  {
   "cell_type": "code",
   "execution_count": 4,
   "metadata": {},
   "outputs": [],
   "source": [
    "def button_gtfs_clicked():\n",
    "    root.gtfs=filedialog.askopenfilename(initialdir=\"/\",title=\"Select GTFS Zip file\",filetypes = ((\"zip files\",\"*.zip\"),(\"all files\",\"*.*\")))\n",
    "def button_mbsl_clicked():\n",
    "    root.mbsl=filedialog.askopenfilename(initialdir=r\"N:\\Planning - New File Structure\\MASTER BUS STOP LIST\",title=\"Select Master Bus Stop List\")\n",
    "def button_outfolder_clicked():\n",
    "    root.outfolder=filedialog.askdirectory(initialdir=\"/\",title=\"Select Output folder\")\n",
    "def close_window():\n",
    "    root.route=tkvar.get()\n",
    "    root.destroy()\n",
    "\n",
    "root=tk.Tk()\n",
    "root.title('Stops Changes')\n",
    "\n",
    "tkvar=tk.StringVar(root)\n",
    "tkvar.set(\"All\")\n",
    "\n",
    "label_gtfs=tk.Label(root,text=\"Select GTFS zip file.\")\n",
    "label_gtfs.grid(column=0,row=0)\n",
    "button_gtfs=tk.Button(root,text=\"Browse\",command=button_gtfs_clicked)\n",
    "button_gtfs.grid(column=0,row=1)\n",
    "\n",
    "label_mbsl=tk.Label(root,text=\"Select Master Bus Stop List.\")\n",
    "label_mbsl.grid(column=0,row=2)\n",
    "button_mbsl=tk.Button(root,text=\"Browse\",command=button_mbsl_clicked)\n",
    "button_mbsl.grid(column=0,row=3)\n",
    "\n",
    "label_out=tk.Label(root,text=\"Select an output folder\")\n",
    "label_out.grid(column=0,row=4)\n",
    "button_out=tk.Button(root,text=\"Browse\",command=button_outfolder_clicked)\n",
    "button_out.grid(column=0,row=5)\n",
    "\n",
    "route_label=tk.Label(root,text=\"Pick a Route\")\n",
    "route_label.grid(column=0,row=6)\n",
    "route_choice=tk.OptionMenu(root,tkvar,*route_names)\n",
    "route_choice.grid(column=0,row=7)\n",
    "\n",
    "button_run=tk.Button(root,text='Run',width=25,command=close_window)\n",
    "button_run.grid(column=0,row=8)\n",
    "root.mainloop()"
   ]
  },
  {
   "cell_type": "code",
   "execution_count": 5,
   "metadata": {},
   "outputs": [
    {
     "data": {
      "text/plain": [
       "'N:/Planning - New File Structure/GIS/Data/OFFICIAL CURRENT/GTFS/VRT_Transit1.zip'"
      ]
     },
     "execution_count": 5,
     "metadata": {},
     "output_type": "execute_result"
    }
   ],
   "source": [
    "root.gtfs"
   ]
  },
  {
   "cell_type": "code",
   "execution_count": 6,
   "metadata": {},
   "outputs": [
    {
     "data": {
      "text/plain": [
       "'N:/Planning - New File Structure/MASTER BUS STOP LIST/20190604 Master Bus Stop List.xlsx'"
      ]
     },
     "execution_count": 6,
     "metadata": {},
     "output_type": "execute_result"
    }
   ],
   "source": [
    "root.mbsl"
   ]
  },
  {
   "cell_type": "code",
   "execution_count": 7,
   "metadata": {},
   "outputs": [],
   "source": [
    "root.outfolder\n",
    "outfolder=root.outfolder+\"/{}.xlsx\""
   ]
  },
  {
   "cell_type": "code",
   "execution_count": 8,
   "metadata": {},
   "outputs": [],
   "source": [
    "feed=gt.read_gtfs(root.gtfs,dist_units='mi')\n",
    "MBSL=pd.read_excel(root.mbsl,sheet_name='Master Amenities List',skiprows=2,dtype={'Stop Id':str},na_values=False)\n",
    "MBSL=MBSL[['Stop Id','Ada Accessible','Shelter']].fillna(0)\n",
    "gtfs_filename=os.path.basename(root.gtfs)\n",
    "gtfs_filename=os.path.splitext(gtfs_filename)[0]"
   ]
  },
  {
   "cell_type": "code",
   "execution_count": 9,
   "metadata": {},
   "outputs": [],
   "source": [
    "def getRouteStops(route_short_name):\n",
    "    df=feed.stop_times.merge(feed.trips).merge(feed.routes).merge(feed.stops)\n",
    "    df=df.loc[df['route_short_name']==route_short_name]\n",
    "#     df=df.groupby(['stop_id','direction_id'],as_index=False).first()\n",
    "    return df"
   ]
  },
  {
   "cell_type": "code",
   "execution_count": 10,
   "metadata": {},
   "outputs": [],
   "source": [
    "def getDuplicateColumns(df):\n",
    "    duplicateColumnNames = set()\n",
    "    # Iterate over all the columns in dataframe\n",
    "    for x in range(df.shape[1]):\n",
    "        # Select column at xth index.\n",
    "        col = df.iloc[:, x]\n",
    "        # Iterate over all the columns in DataFrame from (x+1)th index till end\n",
    "        for y in range(x + 1, df.shape[1]):\n",
    "            # Select column at yth index.\n",
    "            otherCol = df.iloc[:, y]\n",
    "            # Check if two columns at x 7 y index are equal\n",
    "            if col.equals(otherCol):\n",
    "                duplicateColumnNames.add(df.columns.values[y])\n",
    " \n",
    "    return list(duplicateColumnNames)"
   ]
  },
  {
   "cell_type": "code",
   "execution_count": 11,
   "metadata": {},
   "outputs": [],
   "source": [
    "def getUniquePatterns(route_short_name):\n",
    "    route=getRouteStops(route_short_name)\n",
    "    route=route.pivot(index='stop_sequence',columns='trip_id',values=['stop_id'])\n",
    "    route=route.drop(getDuplicateColumns(route),axis=1)\n",
    "    alpha=[]\n",
    "    for letter in range(65,(65+len(route.columns))):\n",
    "        alpha.append(chr(letter))\n",
    "    route.columns=alpha\n",
    "    route=pd.DataFrame(route.unstack()).reset_index()\n",
    "    route.rename({'level_0':'Pattern',0:'stop_id'},axis=1,inplace=True)\n",
    "    route.sort_values(['Pattern','stop_sequence'],inplace=True)\n",
    "    return route"
   ]
  },
  {
   "cell_type": "code",
   "execution_count": 12,
   "metadata": {
    "scrolled": true
   },
   "outputs": [],
   "source": [
    "def timepointer(route_short_name):\n",
    "    route=feed.stop_times.merge(feed.trips).merge(feed.routes).merge(feed.stops)\n",
    "    route=route.loc[route['route_short_name']==route_short_name]\n",
    "    route=route.groupby(['direction_id','shape_id','stop_sequence'],as_index=False).first()\n",
    "    route=route.loc[route['departure_time'].notna()]\n",
    "    route=route[['stop_name','shape_id','direction_id','stop_sequence','departure_time','stop_id']]\n",
    "    route['stop_label']=route['stop_name']\n",
    "    route['stop_label'].replace(r\"[NSEW][NSEW][CM]\",\"\",regex=True,inplace=True)\n",
    "    firsts=pd.DataFrame(route.loc[~route['stop_label'].duplicated()][['stop_label','stop_sequence','direction_id','stop_id']]).reset_index()\n",
    "    firsts['number']=firsts.index+1\n",
    "    dups=pd.DataFrame(route.loc[route['stop_label'].duplicated()][['stop_label','stop_sequence','direction_id','stop_id']]).reset_index()\n",
    "    dups2=dups.merge(firsts,on='stop_label')\n",
    "    dups2=dups2[['stop_label','number']]\n",
    "    dups2[['direction_id','stop_sequence','stop_id']]=dups[['direction_id','stop_sequence','stop_id']]\n",
    "    df2=firsts.append(dups2)\n",
    "    df2=df2.groupby(['stop_id','direction_id'],as_index=False).first()\n",
    "    df2.sort_values(['direction_id','stop_sequence'],inplace=True)\n",
    "    df2=df2[['stop_id','stop_label','number']]\n",
    "    return df2"
   ]
  },
  {
   "cell_type": "code",
   "execution_count": 13,
   "metadata": {
    "scrolled": true
   },
   "outputs": [],
   "source": [
    "def otherRoutes(route_short_name):\n",
    "    df=feed.stop_times.merge(feed.trips)\n",
    "    df=df.merge(feed.routes)\n",
    "    route=df.loc[df['route_short_name']==route_short_name]\n",
    "    route=route.groupby('stop_id',as_index=False).first()\n",
    "    df=df.loc[df['route_short_name']!=route_short_name]\n",
    "    df=df.groupby(['stop_id','route_short_name'],as_index=False).first()\n",
    "    df=pd.DataFrame(df.groupby('stop_id')['route_short_name'].agg(lambda x: ', '.join(x))).reset_index()\n",
    "    df=df[['stop_id','route_short_name']]\n",
    "    df=df.rename({'route_short_name':'other_routes'},axis=1)\n",
    "    route=route.merge(df,how='left')\n",
    "    route=route[['stop_id','other_routes']]\n",
    "    return route"
   ]
  },
  {
   "cell_type": "code",
   "execution_count": 14,
   "metadata": {
    "scrolled": true
   },
   "outputs": [],
   "source": [
    "def MergeMBSL(route_short_name):\n",
    "    df=getRouteStops(route_short_name)\n",
    "    df=df.merge(MBSL,left_on='stop_id',right_on='Stop Id')\n",
    "    df=df[['stop_id','Ada Accessible','Shelter']]\n",
    "    return df"
   ]
  },
  {
   "cell_type": "code",
   "execution_count": 15,
   "metadata": {},
   "outputs": [],
   "source": [
    "def stopLister(route_short_name, save_folder=None):\n",
    "    df=getUniquePatterns(route_short_name)\n",
    "    df=df.merge(feed.stops,how='left').merge(timepointer(route_short_name),how='left').merge(otherRoutes(route_short_name),how='left').merge(MergeMBSL(route_short_name),how='left')\n",
    "    df=df.groupby(['Pattern','stop_sequence','stop_id'],as_index=False).first()\n",
    "    df=df[['Pattern','stop_sequence','stop_id','number','stop_name','Ada Accessible','Shelter','other_routes']]\n",
    "    df.rename({'number':'Timepoint','stop_name':'Stop Name','Ada Accessible':'Accessible','other_routes':'Other Routes'},axis=1,inplace=True)\n",
    "    if save_folder:\n",
    "        path=save_folder\n",
    "        writer = pd.ExcelWriter(path, engine = 'xlsxwriter')\n",
    "        for i in df.Pattern.unique():\n",
    "            out=df.loc[df['Pattern']==i]\n",
    "            out.to_excel(writer,sheet_name=i,index=False)\n",
    "        writer.save()\n",
    "        writer.close()"
   ]
  },
  {
   "cell_type": "code",
   "execution_count": 16,
   "metadata": {
    "scrolled": true
   },
   "outputs": [
    {
     "name": "stderr",
     "output_type": "stream",
     "text": [
      "c:\\users\\bparker\\appdata\\local\\conda\\conda\\envs\\py3\\lib\\site-packages\\pandas\\core\\frame.py:6211: FutureWarning: Sorting because non-concatenation axis is not aligned. A future version\n",
      "of pandas will change to not sort by default.\n",
      "\n",
      "To accept the future behavior, pass 'sort=False'.\n",
      "\n",
      "To retain the current behavior and silence the warning, pass 'sort=True'.\n",
      "\n",
      "  sort=sort)\n"
     ]
    }
   ],
   "source": [
    "if root.route=='All':\n",
    "    for i in feed.routes.route_short_name.unique():\n",
    "        stopLister(i,outfolder.format(i))\n",
    "else:\n",
    "    stopLister(root.route,outfolder.format(root.route))"
   ]
  },
  {
   "cell_type": "code",
   "execution_count": null,
   "metadata": {},
   "outputs": [],
   "source": []
  }
 ],
 "metadata": {
  "kernelspec": {
   "display_name": "Python 3",
   "language": "python",
   "name": "python3"
  },
  "language_info": {
   "codemirror_mode": {
    "name": "ipython",
    "version": 3
   },
   "file_extension": ".py",
   "mimetype": "text/x-python",
   "name": "python",
   "nbconvert_exporter": "python",
   "pygments_lexer": "ipython3",
   "version": "3.7.1"
  }
 },
 "nbformat": 4,
 "nbformat_minor": 2
}
