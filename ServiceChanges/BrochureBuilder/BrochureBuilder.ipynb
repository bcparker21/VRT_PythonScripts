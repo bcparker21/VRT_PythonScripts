{
 "cells": [
  {
   "cell_type": "code",
   "execution_count": 15,
   "metadata": {},
   "outputs": [],
   "source": [
    "import requests, zipfile, io, os\n",
    "import gtfstk as gt # https://mrcagney.github.io/gtfstk_docs/, https://github.com/mrcagney/gtfstk/blob/master/ipynb/examples.ipynb\n",
    "import pandas as pd # https://pandas.pydata.org/pandas-docs/stable/index.html\n",
    "import numpy as np # https://www.numpy.org/\n",
    "import geopandas as gpd # http://geopandas.org/\n",
    "import osmnx as ox # https://osmnx.readthedocs.io/en/stable/index.html\n",
    "import tkinter as tk\n",
    "import multiprocessing as mp\n",
    "from tkinter import filedialog\n",
    "from shapely.geometry import Point, LineString # https://shapely.readthedocs.io/en/latest/\n",
    "from IPython.display import clear_output\n",
    "import matplotlib.pyplot as plt\n",
    "%matplotlib inline"
   ]
  },
  {
   "cell_type": "code",
   "execution_count": 16,
   "metadata": {},
   "outputs": [],
   "source": [
    "crs={'init':'epsg:4326'} # WGS84 projection"
   ]
  },
  {
   "cell_type": "code",
   "execution_count": 3,
   "metadata": {},
   "outputs": [],
   "source": [
    "def button_gtfs_clicked():\n",
    "    root.gtfs=filedialog.askopenfilename(initialdir=\"/\",title=\"Select GTFS Zip file\",filetypes = ((\"zip files\",\"*.zip\"),(\"all files\",\"*.*\")))\n",
    "def button_outfolder_clicked():\n",
    "    root.outfolder=filedialog.askdirectory(initialdir=\"/\",title=\"Select Output folder\")\n",
    "def button_centerline_clicked():\n",
    "    root.centerline=filedialog.askopenfilename(initialdir=\"/\",title=\"Select Centerline Shapefile\")\n",
    "root=tk.Tk()\n",
    "root.title('Brochure Builder')\n",
    "root.geometry('350x200')\n",
    "\n",
    "label_gtfs=tk.Label(root,text=\"Select GTFS zip file.\")\n",
    "label_gtfs.grid(column=0,row=0)\n",
    "button_gtfs=tk.Button(root,text=\"Browse\",command=button_gtfs_clicked)\n",
    "button_gtfs.grid(column=0,row=1)\n",
    "\n",
    "label_centerline=tk.Label(root,text=\"Select centerline shapefile\")\n",
    "label_centerline.grid(column=0,row=2)\n",
    "button_centerline=tk.Button(root, text=\"Browse\", command=button_centerline_clicked)\n",
    "button_centerline.grid(column=0,row=3)\n",
    "\n",
    "label_out=tk.Label(root,text=\"Select an output folder\")\n",
    "label_out.grid(column=0,row=4)\n",
    "button_out=tk.Button(root,text=\"Browse\",command=button_outfolder_clicked)\n",
    "button_out.grid(column=0,row=5)\n",
    "\n",
    "button_run=tk.Button(root,text='Run',width=25,command=root.destroy)\n",
    "button_run.grid(column=0,row=6)\n",
    "root.mainloop()"
   ]
  },
  {
   "cell_type": "code",
   "execution_count": 4,
   "metadata": {
    "scrolled": true
   },
   "outputs": [],
   "source": [
    "# Read in GTFS file\n",
    "\n",
    "if root.gtfs=='':\n",
    "    zip_file_url=r\"http://valleyregionaltransit.org/gtfs/VRT_Transit1.zip\"\n",
    "    r = requests.get(zip_file_url)\n",
    "    z = zipfile.ZipFile(io.BytesIO(r.content))\n",
    "    z.extractall(\"gtfs\")\n",
    "    gtfs_filename=os.path.basename(zip_file_url)\n",
    "    gtfs_filename=os.path.splitext(gtfs_filename)[0]\n",
    "    feed=gt.read_gtfs(\"gtfs\",dist_units='mi')\n",
    "else:\n",
    "    feed=gt.read_gtfs(root.gtfs,dist_units='mi')\n",
    "    gtfs_filename=os.path.basename(root.gtfs)\n",
    "    gtfs_filename=os.path.splitext(gtfs_filename)[0]"
   ]
  },
  {
   "cell_type": "code",
   "execution_count": 5,
   "metadata": {},
   "outputs": [],
   "source": [
    "outfolder=root.outfolder\n",
    "if root.outfolder=='':\n",
    "    outfolder=r\"N:\\Planning - New File Structure\\GIS\\Data\\BrochureData\\{}\".format(gtfs_filename)\n",
    "if os.path.exists(outfolder):\n",
    "    outfolder=outfolder+\"\\{}.shp\"\n",
    "else:\n",
    "    os.mkdir(root.outfolder)\n",
    "    outfolder=outfolder+\"\\{}.shp\""
   ]
  },
  {
   "cell_type": "code",
   "execution_count": 17,
   "metadata": {
    "scrolled": true
   },
   "outputs": [],
   "source": [
    "def getRoutes(save_file=None):\n",
    "    routes=gt.shapes.geometrize_shapes(feed.shapes)\n",
    "    routes=routes.merge(feed.trips)\n",
    "    routes=routes.merge(feed.routes)\n",
    "    routes=routes.dissolve('route_short_name',as_index=False)\n",
    "    if save_file:\n",
    "        routes.to_file(save_file)\n",
    "    return routes"
   ]
  },
  {
   "cell_type": "code",
   "execution_count": 18,
   "metadata": {},
   "outputs": [],
   "source": [
    "# Function to get stops for each route\n",
    "def getStopsRoutes(save_file=None):\n",
    "    stops=gt.stops.geometrize_stops(feed.stops).to_crs(crs)\n",
    "    stops['Coordinates']=list(zip(feed.stops.stop_lat,feed.stops.stop_lon)) # OSMNX uses lat/long\n",
    "    stops['geometry']=[Point(xy) for xy in zip(feed.stops.stop_lon,feed.stops.stop_lat)] # Most other stuff likes long/lat\n",
    "    df=feed.stop_times.merge(stops)\n",
    "    df=df.merge(feed.trips)\n",
    "    df=df.merge(feed.routes)\n",
    "    stops_routes=df.groupby(['stop_id','route_short_name'],as_index=False).first() # Get stops for each route\n",
    "    stops_routes=gpd.GeoDataFrame(stops_routes,geometry='geometry',crs='init:4326')\n",
    "    df['stop_label']=df['stop_name']\n",
    "    df['stop_label'].replace(r\"[NSEW][NSEW][CM]\",\"\",regex=True,inplace=True)\n",
    "    df=gpd.GeoDataFrame(df,geometry='geometry',crs=crs)\n",
    "    if save_file:\n",
    "        stops_routes=stops_routes[['stop_id','route_short_name','stop_name','geometry']]\n",
    "        stops_routes.to_file(save_file)\n",
    "    else:\n",
    "        df=stops_routes[['stop_id','stop_sequence','departure_time','stop_name','Coordinates','direction_id','route_short_name','route_long_name','trip_id','geometry','route_color']]\n",
    "    return df"
   ]
  },
  {
   "cell_type": "code",
   "execution_count": 19,
   "metadata": {
    "scrolled": true
   },
   "outputs": [],
   "source": [
    "# Function to get numbered timepoints\n",
    "def getTimepoints(save_file=None):\n",
    "    df=feed.stop_times\n",
    "    df=df.merge(feed.trips)\n",
    "    df=df.merge(feed.routes)\n",
    "    df=df.merge(gt.stops.geometrize_stops(feed.stops))\n",
    "    df['stop_label']=df['stop_name']\n",
    "    df['stop_label'].replace(r\"[NSEW][NSEW][CM]\",\"\",regex=True,inplace=True)\n",
    "    if 'timepoint' in df.columns:\n",
    "        timepoints=df.loc[df['timepoint']==1]\n",
    "    else:\n",
    "        timepoints=df.loc[df['departure_time'].notna()]\n",
    "    timepoints=timepoints.sort_values(['route_short_name','trip_id','direction_id','stop_sequence'])\n",
    "    timepoints['number']=''\n",
    "    numbered_routes=pd.DataFrame()\n",
    "    for i in feed.routes.route_short_name.unique():\n",
    "        route=timepoints.loc[timepoints['route_short_name']==i]\n",
    "        route=route.sort_values(['direction_id','stop_sequence'])\n",
    "        route=route.groupby('stop_label',sort=False).first()\n",
    "        route.reset_index(inplace=True)\n",
    "        route['number']=route.index+1\n",
    "        numbered_routes=numbered_routes.append(route)\n",
    "        numbered_routes=numbered_routes[['stop_id','stop_label','route_short_name','number','geometry']]\n",
    "        if save_file:\n",
    "            numbered_routes=gpd.GeoDataFrame(numbered_routes,geometry='geometry',crs=crs)\n",
    "            numbered_routes.to_file(save_file)\n",
    "    return numbered_routes"
   ]
  },
  {
   "cell_type": "code",
   "execution_count": 20,
   "metadata": {
    "scrolled": true
   },
   "outputs": [],
   "source": [
    "# Create a layer for transfer locations\n",
    "def getTranfers(save_file=None):\n",
    "    transfers=feed.transfers.merge(gt.stops.geometrize_stops(feed.stops),left_on='from_stop_id',right_on='stop_id',how='left')\n",
    "    transfers=transfers.merge(feed.stop_times,how='left')\n",
    "    transfers=transfers.merge(feed.trips,how='left')\n",
    "    transfers=transfers.merge(feed.routes,how='right')\n",
    "    transfers=transfers.groupby(['stop_id','route_short_name'],as_index=False).first()\n",
    "    transfers=transfers[['route_short_name','stop_id','geometry','stop_name']]\n",
    "    transfers=gpd.GeoDataFrame(transfers,geometry='geometry',crs=crs)\n",
    "    if save_file:\n",
    "        transfers.to_file(save_file)\n",
    "    return transfers"
   ]
  },
  {
   "cell_type": "code",
   "execution_count": 21,
   "metadata": {
    "scrolled": true
   },
   "outputs": [],
   "source": [
    "def getWater(save_file=None,water_shp=r\"N:\\Planning - New File Structure\\GIS\\Data\\Environmental\\WaterFeatures.shp\",buffer_distance=1):\n",
    "    one_deg_lat=69.05397727272727 # miles\n",
    "    one_deg_lon=48.99318181818182 # miles\n",
    "    conversion_deg=(np.mean([one_deg_lat,one_deg_lon]))\n",
    "    buffer_distance_deg=buffer_distance/conversion_deg\n",
    "    water=gpd.read_file(water_shp).to_crs(crs).unary_union\n",
    "    routes=getRoutes()\n",
    "    routes.geometry=routes.geometry.buffer(buffer_distance_deg)\n",
    "    water_out=gpd.GeoDataFrame(crs=crs)\n",
    "    for index, row in routes.iterrows():\n",
    "        row_gdf=gpd.GeoDataFrame(row,crs=crs).T\n",
    "        row_gdf['geometry']=row_gdf['geometry'].intersection(water)\n",
    "        water_out=water_out.append(row_gdf)\n",
    "    water_out=water_out.loc[(water_out.geometry.geom_type=='Polygon')|(water_out.geometry.geom_type=='MultiPolygon')]\n",
    "    if save_file:\n",
    "        water_out=water_out[['route_short_name','geometry']]\n",
    "        water_out.to_file(save_file)\n",
    "    return water_out"
   ]
  },
  {
   "cell_type": "code",
   "execution_count": 22,
   "metadata": {
    "scrolled": true
   },
   "outputs": [],
   "source": [
    "# Function to query OpenStreetMap for street networks near stops with a stop_id and route_short_name for definition querying.\n",
    "def getStreets(save_file=None,distance=1600,centerline=None):\n",
    "    stops_routes2=getStopsRoutes()\n",
    "    streets_gdf=gpd.GeoDataFrame(crs=crs)\n",
    "    for index, row in stops_routes2.iterrows():\n",
    "        clear_output(wait=True)\n",
    "        try:\n",
    "            g=ox.graph_from_point(row['Coordinates'],distance=distance,distance_type='network',network_type='walk',truncate_by_edge=True)\n",
    "            df=ox.graph_to_gdfs((g),nodes=False,edges=True)\n",
    "            df['route_short_name']=row['route_short_name']\n",
    "            df['stop_id']=row['stop_id']\n",
    "            if centerline:\n",
    "                cl=gpd.read_file(centerline).to_crs(crs)\n",
    "                df=df.dissolve(by='stop_id')\n",
    "                df.geometry=df.geometry.convex_hull\n",
    "                df=gpd.sjoin(cl,df,how='inner')\n",
    "                df['route_short_name']=row['route_short_name']\n",
    "                df['stop_id']=row['stop_id']\n",
    "            streets_gdf=streets_gdf.append(df)\n",
    "            ox.plot_graph(g,node_size=0)\n",
    "        except Exception:\n",
    "            continue\n",
    "        print(row['stop_name'])\n",
    "        print('{}% Walked ({} out of {})'.format(str(round((((index+1)/len(stops_routes2))*100),1)),index+1,len(stops_routes2)))\n",
    "    streets_gdf=gpd.GeoDataFrame(streets_gdf, geometry='geometry', crs=crs)\n",
    "    streets_gdf=streets_gdf.loc[(streets_gdf.geometry.geom_type=='LineString')|(streets_gdf.geometry.geom_type=='MultiLineString')]\n",
    "    streets_gdf.reset_index(inplace=True)\n",
    "    if save_file:\n",
    "        if centerline:\n",
    "            streets_gdf=streets_gdf[['stop_id','route_short_name','StName','StSuffix','FuncClass','geometry']]\n",
    "            interstate=streets_gdf.loc[streets_gdf['FuncClass']=='Interstate']\n",
    "            arterial=streets_gdf.loc[(streets_gdf['FuncClass']=='Major Road')|(streets_gdf['FuncClass']=='Minor Arterial')|(streets_gdf['FuncClass']=='Principal Arterial')|(streets_gdf['FuncClass']=='State Highway')|(streets_gdf['FuncClass']=='U.S. Highway')]\n",
    "            collector=streets_gdf.loc[streets_gdf['FuncClass']=='Collector']\n",
    "            local=streets_gdf.loc[streets_gdf['FuncClass']=='Local']\n",
    "        else:\n",
    "            streets_gdf=streets_gdf[['stop_id','route_short_name','geometry','highway','osmid']]\n",
    "        streets_gdf=gpd.GeoDataFrame(streets_gdf,geometry='geometry',crs=crs)\n",
    "        streets_gdf.to_file(save_file)\n",
    "    return streets_gdf"
   ]
  },
  {
   "cell_type": "code",
   "execution_count": null,
   "metadata": {},
   "outputs": [],
   "source": [
    "# getRoutes(outfolder.format(gtfs_filename+\"_routes\"))\n",
    "# getStopsRoutes(outfolder.format(gtfs_filename+\"_stops_routes\"))\n",
    "# getTimepoints(outfolder.format(gtfs_filename+\"_timepoints\"))\n",
    "# if feed.transfers:\n",
    "#     getTranfers(outfolder.format(gtfs_filename+\"_transfers\"))\n",
    "# getWater(outfolder.format(gtfs_filename+\"_water\"))\n",
    "# getStreets(save_file=outfolder.format(gtfs_filename+\"_streets\"),centerline=root.centerline)"
   ]
  },
  {
   "cell_type": "code",
   "execution_count": null,
   "metadata": {},
   "outputs": [],
   "source": []
  },
  {
   "cell_type": "code",
   "execution_count": 24,
   "metadata": {},
   "outputs": [],
   "source": [
    "stops_routes=getStopsRoutes()\n",
    "num_processes=mp.cpu_count()\n",
    "chunk_size=int(stops_routes.shape[0]/num_processes)\n",
    "chunks=[stops_routes.iloc[stops_routes.index[i:i +chunk_size]] for i in range(0, stops_routes.shape[0], chunk_size)]"
   ]
  },
  {
   "cell_type": "code",
   "execution_count": null,
   "metadata": {},
   "outputs": [],
   "source": [
    "pool=mp.Pool(processes=num_processes)\n",
    "result=pool.map(getStreets,chunks)"
   ]
  },
  {
   "cell_type": "code",
   "execution_count": null,
   "metadata": {},
   "outputs": [],
   "source": [
    "result"
   ]
  }
 ],
 "metadata": {
  "kernelspec": {
   "display_name": "Python 3",
   "language": "python",
   "name": "python3"
  },
  "language_info": {
   "codemirror_mode": {
    "name": "ipython",
    "version": 3
   },
   "file_extension": ".py",
   "mimetype": "text/x-python",
   "name": "python",
   "nbconvert_exporter": "python",
   "pygments_lexer": "ipython3",
   "version": "3.7.1"
  }
 },
 "nbformat": 4,
 "nbformat_minor": 2
}
