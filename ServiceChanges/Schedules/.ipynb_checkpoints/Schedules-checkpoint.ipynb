{
 "cells": [
  {
   "cell_type": "code",
   "execution_count": 1,
   "metadata": {},
   "outputs": [],
   "source": [
    "import gtfstk as gt\n",
    "import pandas as pd\n",
    "import numpy as np\n",
    "import tkinter as tk\n",
    "import requests, zipfile, io, os\n",
    "from tkinter import filedialog"
   ]
  },
  {
   "cell_type": "code",
   "execution_count": 2,
   "metadata": {},
   "outputs": [],
   "source": [
    "zip_file_url=r\"http://valleyregionaltransit.org/gtfs/VRT_Transit1.zip\"\n",
    "r = requests.get(zip_file_url)\n",
    "z = zipfile.ZipFile(io.BytesIO(r.content))\n",
    "z.extractall(\"gtfs\")\n",
    "gtfs_filename=os.path.basename(zip_file_url)\n",
    "gtfs_filename=os.path.splitext(gtfs_filename)[0]\n",
    "feed=gt.read_gtfs(\"gtfs\",dist_units='mi')"
   ]
  },
  {
   "cell_type": "code",
   "execution_count": 3,
   "metadata": {},
   "outputs": [
    {
     "data": {
      "text/plain": [
       "dict_values(['1', '2', '3', '4', '5', '6', '7A', '7B', '8', '8x', '9', '10', '11', '12', '16', '17', '28', '29', '40', '42', '43', '45', '51', '52', '55', 'All'])"
      ]
     },
     "execution_count": 3,
     "metadata": {},
     "output_type": "execute_result"
    }
   ],
   "source": [
    "route_names=feed.routes['route_short_name']\n",
    "route_namesArray=route_names.unique()\n",
    "route_names={i:route_namesArray[i] for i in range(len(route_names.unique()))}\n",
    "route_names.update([((len(route_names)+1),'All')])\n",
    "route_names=route_names.values()\n",
    "route_names"
   ]
  },
  {
   "cell_type": "code",
   "execution_count": 4,
   "metadata": {},
   "outputs": [],
   "source": [
    "def button_gtfs_clicked():\n",
    "    root.gtfs=filedialog.askopenfilename(initialdir=\"/\",title=\"Select GTFS Zip file\",filetypes = ((\"zip files\",\"*.zip\"),(\"all files\",\"*.*\")))    \n",
    "def button_outfolder_clicked():\n",
    "    root.outfolder=filedialog.askdirectory(initialdir=\"/\",title=\"Select Output folder\")\n",
    "def close_window():\n",
    "    root.route=tkvar.get()\n",
    "    root.weekday=weekday.get()\n",
    "    feed=gt.read_gtfs(root.gtfs,dist_units='mi')\n",
    "    root.destroy()\n",
    "\n",
    "root=tk.Tk()\n",
    "root.title('Schedule Builder')\n",
    "\n",
    "tkvar=tk.StringVar(root)\n",
    "\n",
    "label_gtfs=tk.Label(root,text=\"Select GTFS zip file.\")\n",
    "label_gtfs.grid(column=0,row=0)\n",
    "button_gtfs=tk.Button(root,text=\"Browse\",command=button_gtfs_clicked)\n",
    "button_gtfs.grid(column=0,row=1)\n",
    "\n",
    "label_out=tk.Label(root,text=\"Select an output folder\")\n",
    "label_out.grid(column=0,row=2)\n",
    "button_out=tk.Button(root,text=\"Browse\",command=button_outfolder_clicked)\n",
    "button_out.grid(column=0,row=3)\n",
    "\n",
    "route_label=tk.Label(root,text=\"Pick a Route\")\n",
    "route_label.grid(column=0,row=4)\n",
    "route_choice=tk.OptionMenu(root,tkvar,*route_names)\n",
    "route_choice.grid(column=0,row=5)\n",
    "\n",
    "label_weekday=tk.Label(root,text=\"Choose Weekday Type\")\n",
    "label_weekday.grid(column=0,row=6)\n",
    "weekday=tk.StringVar()\n",
    "tk.Radiobutton(root,text=\"Weekday\",variable=weekday,value=\"Weekday\").grid(column=0,row=7)\n",
    "tk.Radiobutton(root,text=\"Saturday\",variable=weekday,value=\"Saturday\").grid(column=0,row=8)\n",
    "tk.Radiobutton(root,text=\"All\",variable=weekday,value=\"All\").grid(column=0,row=9)\n",
    "\n",
    "button_run=tk.Button(root,text='Run',width=25,command=close_window)\n",
    "button_run.grid(column=0,row=10)\n",
    "root.mainloop()"
   ]
  },
  {
   "cell_type": "code",
   "execution_count": 5,
   "metadata": {},
   "outputs": [],
   "source": [
    "# Function to get numbered timepoints\n",
    "def getTimepoints(route_short_name):\n",
    "    timepoints=feed.stop_times.merge(feed.trips)\n",
    "    timepoints=timepoints.merge(feed.routes)\n",
    "    timepoints=timepoints.merge(feed.stops)\n",
    "    timepoints=timepoints.loc[(timepoints['route_short_name']==route_short_name)&(timepoints['departure_time'].notna())]\n",
    "    timepoints['stop_label']=timepoints['stop_name']\n",
    "    timepoints['stop_label'].replace(r\"[NSEW][NSEW][CM]\",\"\",regex=True,inplace=True)\n",
    "    timepoints['number']=''\n",
    "    timepoints=timepoints.groupby('stop_id',sort=False,as_index=False).first()\n",
    "    timepoints.sort_values(['shape_id','direction_id','stop_sequence'],inplace=True)\n",
    "    timepoints.reset_index(inplace=True)\n",
    "    timepoints['number']=range(len(timepoints))\n",
    "    timepoints['number']=timepoints['number']+1\n",
    "    timepoints_dup=timepoints.loc[timepoints['stop_label'].duplicated()]\n",
    "    timepoints_first=timepoints.drop_duplicates('stop_label')\n",
    "    timepoints_firstest=timepoints.loc[timepoints['stop_label'].duplicated(keep='last')]\n",
    "    timepoints_dup=timepoints_dup.merge(timepoints_firstest,on='stop_label')\n",
    "    timepoints_dup['number_x']=timepoints_dup['number_y']\n",
    "    timepoints_dup=timepoints_dup[['index_x', 'stop_id_x', 'trip_id_x', 'arrival_time_x',\n",
    "       'departure_time_x', 'stop_sequence_x', 'stop_headsign_x',\n",
    "       'pickup_type_x', 'drop_off_type_x', 'shape_dist_traveled_x',\n",
    "       'route_id_x', 'service_id_x', 'trip_headsign_x', 'direction_id_x',\n",
    "       'block_id_x', 'shape_id_x', 'agency_id_x', 'route_short_name_x',\n",
    "       'route_long_name_x', 'route_desc_x', 'route_type_x', 'route_url_x',\n",
    "       'route_color_x', 'route_text_color_x', 'stop_code_x', 'stop_name_x',\n",
    "       'stop_desc_x', 'stop_lat_x', 'stop_lon_x', 'zone_id_x', 'stop_label',\n",
    "       'number_x']]\n",
    "    timepoints_dup.columns=timepoints.columns\n",
    "    timepoints=timepoints_first.append(timepoints_dup)\n",
    "    timepoints=timepoints[['stop_id','stop_name','stop_label','number']]\n",
    "    return timepoints"
   ]
  },
  {
   "cell_type": "code",
   "execution_count": 6,
   "metadata": {
    "scrolled": true
   },
   "outputs": [],
   "source": [
    "def buildSched(route_short_name,save_folder=None,dayofweek='Weekday'):\n",
    "    route=feed.routes.loc[feed.routes['route_short_name']==route_short_name]\n",
    "    route_id=route['route_id'].values[0]\n",
    "    \n",
    "    service_dates=gt.calendar.get_dates(feed)\n",
    "    service_dates=pd.DataFrame(service_dates,columns=['DateStr'])\n",
    "    service_dates['Date']=pd.to_datetime(service_dates['DateStr'])\n",
    "    service_dates['Weekday']=service_dates['Date'].dt.dayofweek\n",
    "    if dayofweek=='Weekday':\n",
    "        service_dates=service_dates.loc[(service_dates['Weekday']>=0)&(service_dates['Weekday']<5)]\n",
    "        savename=route_short_name+'_weekday'\n",
    "    if dayofweek=='Saturday':\n",
    "        service_dates=service_dates.loc[service_dates['Weekday']==5]\n",
    "        savename=route_short_name+'_saturday'\n",
    "    service_dates=service_dates['DateStr'].tolist()\n",
    "    \n",
    "    timepoints=getTimepoints(route_short_name)\n",
    "    sched=gt.routes.build_route_timetable(feed=feed,route_id=route_id,dates=service_dates)\n",
    "    sched.dropna(axis=0,subset=['departure_time'],inplace=True)\n",
    "    sched['departure_time']=pd.to_datetime(sched['departure_time'])\n",
    "    sched['departure_time']=sched['departure_time'].dt.strftime('%I:%M %p')\n",
    "    sched=sched.merge(timepoints,how='left')\n",
    "    \n",
    "    sched_out=sched.loc[sched['direction_id']==0]\n",
    "    sched_out=pd.pivot_table(sched_out,index='trip_id',columns=['stop_id','stop_name','direction_id','stop_sequence','stop_label','number'],values='departure_time',aggfunc='first')\n",
    "    sched_out.sort_values(['direction_id','stop_sequence'],inplace=True,axis=1)\n",
    "    sched_out.columns=sched_out.columns.droplevel('stop_id')\n",
    "    sched_out.columns=sched_out.columns.droplevel('stop_name')\n",
    "    sched_out.columns=sched_out.columns.droplevel('direction_id')\n",
    "    sched_out.columns=sched_out.columns.droplevel('stop_sequence')\n",
    "    \n",
    "    sched_in=sched.loc[sched['direction_id']==1]\n",
    "    sched_in=pd.pivot_table(sched_in,index='trip_id',columns=['stop_id','stop_name','direction_id','stop_sequence','stop_label','number'],values='departure_time',aggfunc='first')\n",
    "    sched_in.sort_values(['direction_id','stop_sequence'],inplace=True,axis=1)\n",
    "    sched_in.columns=sched_in.columns.droplevel('stop_id')\n",
    "    sched_in.columns=sched_in.columns.droplevel('stop_name')\n",
    "    sched_in.columns=sched_in.columns.droplevel('direction_id')\n",
    "    sched_in.columns=sched_in.columns.droplevel('stop_sequence')\n",
    "\n",
    "    if save_folder:\n",
    "        sched_out.to_excel(save_folder+r\"\\{}_outbound.xlsx\".format(savename))\n",
    "        sched_in.to_excel(save_folder+r\"\\{}_inbound.xlsx\".format(savename))\n",
    "    return sched_in"
   ]
  },
  {
   "cell_type": "code",
   "execution_count": 7,
   "metadata": {
    "scrolled": true
   },
   "outputs": [],
   "source": [
    "if root.weekday=='All':\n",
    "    if root.route=='All':\n",
    "        for i in feed.routes.route_short_name.unique():\n",
    "            buildSched(i,root.outfolder,'Weekday')\n",
    "            buildSched(i,root.outfolder,'Saturday')\n",
    "    else:\n",
    "        buildSched(root.route,root.outfolder,'Weekday')\n",
    "        buildSched(root.route,root.outfolder,'Saturday')\n",
    "else:\n",
    "    buildSched(root.route,root.outfolder,root.weekday)"
   ]
  },
  {
   "cell_type": "code",
   "execution_count": 8,
   "metadata": {},
   "outputs": [
    {
     "data": {
      "text/plain": [
       "'7A'"
      ]
     },
     "execution_count": 8,
     "metadata": {},
     "output_type": "execute_result"
    }
   ],
   "source": [
    "root.route"
   ]
  },
  {
   "cell_type": "code",
   "execution_count": 9,
   "metadata": {},
   "outputs": [
    {
     "data": {
      "text/plain": [
       "'Weekday'"
      ]
     },
     "execution_count": 9,
     "metadata": {},
     "output_type": "execute_result"
    }
   ],
   "source": [
    "root.weekday"
   ]
  },
  {
   "cell_type": "code",
   "execution_count": null,
   "metadata": {},
   "outputs": [],
   "source": []
  }
 ],
 "metadata": {
  "kernelspec": {
   "display_name": "Python 3",
   "language": "python",
   "name": "python3"
  },
  "language_info": {
   "codemirror_mode": {
    "name": "ipython",
    "version": 3
   },
   "file_extension": ".py",
   "mimetype": "text/x-python",
   "name": "python",
   "nbconvert_exporter": "python",
   "pygments_lexer": "ipython3",
   "version": "3.7.1"
  }
 },
 "nbformat": 4,
 "nbformat_minor": 2
}
