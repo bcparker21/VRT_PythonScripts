{
 "cells": [
  {
   "cell_type": "code",
   "execution_count": 1,
   "metadata": {},
   "outputs": [],
   "source": [
    "import matplotlib.pyplot as plt\n",
    "import matplotlib\n",
    "import pandas as pd\n",
    "import geopandas as gpd\n",
    "import seaborn as sns\n",
    "import numpy as np\n",
    "import datetime, traceback, requests, io, os, re, shutil, zipfile, traceback\n",
    "import gtfstk as gt\n",
    "import tkinter as tk\n",
    "from tkinter import filedialog\n",
    "from matplotlib.dates import DateFormatter\n",
    "from matplotlib.ticker import FormatStrFormatter\n",
    "import matplotlib.dates as mdates\n",
    "%matplotlib inline"
   ]
  },
  {
   "cell_type": "code",
   "execution_count": 2,
   "metadata": {},
   "outputs": [],
   "source": [
    "def readOnlineFeed(url):\n",
    "    r=requests.get(url)\n",
    "    z=zipfile.ZipFile(io.BytesIO(r.content))\n",
    "    z.extractall('x')\n",
    "    feed=gt.read_gtfs('x',dist_units='mi')\n",
    "    shutil.rmtree('x')\n",
    "    return feed\n",
    "gtfs=readOnlineFeed(r\"http://valleyregionaltransit.org/gtfs/VRT_Transit1.zip\")"
   ]
  },
  {
   "cell_type": "code",
   "execution_count": 3,
   "metadata": {},
   "outputs": [],
   "source": [
    "route_names=gtfs.routes['route_long_name'].str.replace(\"/\",\" \",regex=True)\n",
    "route_namesArray=route_names.unique()\n",
    "route_names={i:route_namesArray[i] for i in range(len(route_names.unique()))}\n",
    "route_names.update([((len(route_names)+1),'All')])\n",
    "route_names=route_names.values()"
   ]
  },
  {
   "cell_type": "code",
   "execution_count": 4,
   "metadata": {},
   "outputs": [],
   "source": [
    "def button_otp_clicked():\n",
    "    root.otp=filedialog.askdirectory(initialdir=\"/\",title=\"Select OTP Detail Report\")\n",
    "def button_save_clicked():\n",
    "    root.save_file=filedialog.askdirectory(initialdir=\"/\",title=\"Select Output Location\")\n",
    "\n",
    "def close_window():\n",
    "    root.route=route.get()\n",
    "    root.violin=violin.get()\n",
    "    root.quantiles=quantiles.get()\n",
    "    root.destroy()\n",
    "\n",
    "root=tk.Tk()\n",
    "root.title('On Time Performance Analytics')\n",
    "\n",
    "route=tk.StringVar(root)\n",
    "route.set('All')\n",
    "\n",
    "violin=tk.BooleanVar()\n",
    "violin.set(False)\n",
    "\n",
    "quantiles=tk.BooleanVar()\n",
    "quantiles.set(False)\n",
    "\n",
    "tk.Label(root,text=\"Select OTP Detail Report Folder\").grid(column=0,row=0)\n",
    "tk.Button(root,text=\"Browse\",command=button_otp_clicked).grid(column=1,row=0)\n",
    "\n",
    "tk.Label(root,text=\"Save Reports\").grid(column=0,row=1)\n",
    "tk.Button(root,text=\"Browse\",command=button_save_clicked).grid(column=1,row=1)\n",
    "\n",
    "tk.Label(root,text=\"Pick a Route\").grid(column=0,row=2)\n",
    "tk.OptionMenu(root,route,*route_names).grid(column=1,row=2)\n",
    "\n",
    "tk.Label(root,text=\"Select Output Types\").grid(column=0,row=3)\n",
    "tk.Checkbutton(root,text=\"Violin Plot\",variable=violin).grid(column=0,row=4)\n",
    "tk.Checkbutton(root,text=\"Quantile Table\", variable=quantiles).grid(column=0,row=6)\n",
    "\n",
    "button_run=tk.Button(root,text='Run',width=25,command=close_window).grid(column=0,row=7)\n",
    "root.mainloop()"
   ]
  },
  {
   "cell_type": "code",
   "execution_count": 5,
   "metadata": {
    "scrolled": true
   },
   "outputs": [],
   "source": [
    "def getRouteStops(route_long_name):\n",
    "    feed=gtfs.stop_times.merge(gtfs.trips).merge(gtfs.routes).merge(gtfs.stops)\n",
    "    feed['route_long_name']=feed['route_long_name'].str.replace(\"/\",\" \",regex=True)\n",
    "    route=feed.loc[feed['route_long_name']==route_long_name]\n",
    "    route.sort_values(['trip_id','direction_id','stop_sequence'],inplace=True)\n",
    "    route=route.groupby(['stop_id'],as_index=False,sort=False).first()\n",
    "    routeStops=route['stop_name']\n",
    "    routeStops={i:routeStops[i] for i in range(len(routeStops))}\n",
    "    routeStops.update([((len(routeStops)+1),'All')])\n",
    "    routeStops=routeStops.values()\n",
    "    return routeStops"
   ]
  },
  {
   "cell_type": "code",
   "execution_count": 6,
   "metadata": {},
   "outputs": [
    {
     "name": "stderr",
     "output_type": "stream",
     "text": [
      "c:\\users\\bparker\\appdata\\local\\conda\\conda\\envs\\py3\\lib\\site-packages\\ipykernel_launcher.py:5: SettingWithCopyWarning: \n",
      "A value is trying to be set on a copy of a slice from a DataFrame\n",
      "\n",
      "See the caveats in the documentation: http://pandas.pydata.org/pandas-docs/stable/indexing.html#indexing-view-versus-copy\n",
      "  \"\"\"\n"
     ]
    }
   ],
   "source": [
    "if root.route!='All':\n",
    "    stops=getRouteStops(root.route)"
   ]
  },
  {
   "cell_type": "code",
   "execution_count": 7,
   "metadata": {},
   "outputs": [],
   "source": [
    "def close_window():\n",
    "    second.stop=stop.get()\n",
    "    second.destroy()\n",
    "if root.route!='All':\n",
    "    second=tk.Tk()\n",
    "    second.title('Select A Stop')\n",
    "    \n",
    "    stop=tk.StringVar(second)\n",
    "    stop.set('All')\n",
    "    \n",
    "    label_stops=tk.Label(second,text=\"Pick a Stop\").grid(column=0,row=0)\n",
    "    stop_choice=tk.OptionMenu(second,stop,*stops).grid(column=1,row=0)\n",
    "    \n",
    "    button_run=tk.Button(second,text='Run',width=25,command=close_window).grid(column=0,row=1)\n",
    "    second.mainloop()"
   ]
  },
  {
   "cell_type": "code",
   "execution_count": 8,
   "metadata": {},
   "outputs": [],
   "source": [
    "gtfs.routes['route_long_name']=gtfs.routes['route_long_name'].str.replace(\"/\",\" \",regex=True)\n",
    "route_colors=gtfs.routes[['route_long_name','route_color']].sort_values('route_long_name')\n",
    "route_colors=dict(zip(route_colors['route_long_name'].str.strip(),(\"#\"+route_colors['route_color'])))"
   ]
  },
  {
   "cell_type": "code",
   "execution_count": 9,
   "metadata": {},
   "outputs": [],
   "source": [
    "dateCols=['DepartTime','ScheduledStopTime','ArriveTime','TripDate','ScheduledTripStart','ScheduledTripEnd']"
   ]
  },
  {
   "cell_type": "code",
   "execution_count": null,
   "metadata": {},
   "outputs": [],
   "source": []
  },
  {
   "cell_type": "code",
   "execution_count": 10,
   "metadata": {},
   "outputs": [],
   "source": [
    "def appendOTPFiles(folder):\n",
    "    df=pd.DataFrame()\n",
    "    for i in os.listdir(folder):\n",
    "        df=df.append(pd.read_csv(folder+\"/\"+i,parse_dates=dateCols))\n",
    "    return df"
   ]
  },
  {
   "cell_type": "code",
   "execution_count": 11,
   "metadata": {},
   "outputs": [],
   "source": [
    "def cleanOTPData(data):\n",
    "    df=appendOTPFiles(data)\n",
    "    df['MasterRouteName']=df['MasterRouteName'].str.replace(\"/\",\" \",regex=True)\n",
    "    terminal=df.groupby('TripName')['StopOrder'].max().reset_index(name='TripTerminal')\n",
    "    df=df.merge(terminal)\n",
    "    df['End']=False\n",
    "    df['Start']=False\n",
    "    df['Terminal']=False\n",
    "    df.loc[df.StopOrder==df.TripTerminal,'End']=True\n",
    "    df.loc[df.StopOrder==1,'Start']=True\n",
    "    df.loc[(df.End)|(df.Start),'Terminal']=True\n",
    "    df.loc[df.End,'DepartTime']=df['ArriveTime']\n",
    "    df.loc[df.DepartTime<df.ArriveTime,['DepartTime','ArriveTime']]=df.loc[df.DepartTime<df.ArriveTime,['ArriveTime','DepartTime']]\n",
    "    df.dropna(axis=1,inplace=True,how='all')\n",
    "    df.dropna(axis=0,inplace=True,subset=['DepartTime'])\n",
    "    dropCols=['MinutesEarly','MinutesLate','Group1Type','Group1','EarlyStop','LateStop','EarlyThreshold','LateThreshold','AgencyDescription']\n",
    "    df.drop(dropCols,axis=1,inplace=True)\n",
    "    return df"
   ]
  },
  {
   "cell_type": "code",
   "execution_count": 12,
   "metadata": {},
   "outputs": [],
   "source": [
    "def filterData(data,route_long_name=None,stop_name=None):\n",
    "    df=data\n",
    "    if route_long_name:\n",
    "        df=df.loc[df['MasterRouteName']==route_long_name]\n",
    "        if stop_name:\n",
    "            df=df.loc[df['StopName']==stop_name]\n",
    "    return df"
   ]
  },
  {
   "cell_type": "code",
   "execution_count": 13,
   "metadata": {},
   "outputs": [],
   "source": [
    "def getRelativeTimes(data,Rel='Departure',early=-1,late=5):\n",
    "    df=data\n",
    "    if Rel=='Departure':\n",
    "        df['Relative']=(pd.to_numeric((df['DepartTime']-df['ScheduledStopTime']),downcast='integer'))/60000000000\n",
    "    if Rel=='Arrival':\n",
    "        df['Relative']=(pd.to_numeric((df['ArriveTime']-df['ScheduledStopTime']),downcast='integer'))/60000000000\n",
    "    df['Status']='On Time'\n",
    "    df.loc[df.Relative<early,'Status']='Early'\n",
    "    df.loc[df.Relative>late,'Status']='Late'\n",
    "    df.loc[(df.Terminal)&(df.Relative<late),'Status']='On Time'\n",
    "    return df"
   ]
  },
  {
   "cell_type": "code",
   "execution_count": 14,
   "metadata": {
    "scrolled": true
   },
   "outputs": [],
   "source": [
    "def getDatesTimes(data,start_date=None,end_date=None,start_time=None,end_time=None):\n",
    "    df=data\n",
    "    df['date']=df['ScheduledStopTime'].dt.date\n",
    "    if start_date:\n",
    "        df=df.loc[df['date']>start_date]\n",
    "    if end_date:\n",
    "        df=df.loc[df['date']<end_date]\n",
    "    df['time']=df['ScheduledStopTime'].dt.time\n",
    "    if start_time:\n",
    "        df=df.loc[df['time']>start_time]\n",
    "    if end_time:\n",
    "        df=df.loc[df['time']<end_time]\n",
    "    df['hour']=[r.hour for r in df.time]\n",
    "    df['minutes']=[r.hour*60+r.minute for r in df.time]\n",
    "    df['decimal_time']=df['minutes']/60\n",
    "    df.drop(['hour','minutes'],axis=1,inplace=True)\n",
    "    return df"
   ]
  },
  {
   "cell_type": "code",
   "execution_count": 15,
   "metadata": {},
   "outputs": [],
   "source": [
    "df=cleanOTPData(root.otp)\n",
    "if root.route!='All':\n",
    "    if second.stop=='All':\n",
    "        df=filterData(df,root.route)\n",
    "    if second.stop!='All':\n",
    "        df=filterData(cleanOTPData(root.otp),route_long_name=root.route,stop_name=second.stop)\n",
    "df=getRelativeTimes(df)\n",
    "df=getDatesTimes(df)"
   ]
  },
  {
   "cell_type": "code",
   "execution_count": 16,
   "metadata": {},
   "outputs": [
    {
     "ename": "AttributeError",
     "evalue": "'float' object has no attribute 'strftime'",
     "output_type": "error",
     "traceback": [
      "\u001b[1;31m---------------------------------------------------------------------------\u001b[0m",
      "\u001b[1;31mAttributeError\u001b[0m                            Traceback (most recent call last)",
      "\u001b[1;32m<ipython-input-16-0f2caeb4ff2c>\u001b[0m in \u001b[0;36m<module>\u001b[1;34m\u001b[0m\n\u001b[0;32m      1\u001b[0m \u001b[0msave_file\u001b[0m\u001b[1;33m=\u001b[0m\u001b[0mroot\u001b[0m\u001b[1;33m.\u001b[0m\u001b[0msave_file\u001b[0m\u001b[1;33m+\u001b[0m\u001b[1;34m\"/{}{}\"\u001b[0m\u001b[1;33m\u001b[0m\u001b[1;33m\u001b[0m\u001b[0m\n\u001b[1;32m----> 2\u001b[1;33m \u001b[0mstart_date\u001b[0m\u001b[1;33m=\u001b[0m\u001b[0mdf\u001b[0m\u001b[1;33m.\u001b[0m\u001b[0mdate\u001b[0m\u001b[1;33m.\u001b[0m\u001b[0mmin\u001b[0m\u001b[1;33m(\u001b[0m\u001b[1;33m)\u001b[0m\u001b[1;33m.\u001b[0m\u001b[0mstrftime\u001b[0m\u001b[1;33m(\u001b[0m\u001b[1;34m\"%Y%m%d\"\u001b[0m\u001b[1;33m)\u001b[0m\u001b[1;33m\u001b[0m\u001b[1;33m\u001b[0m\u001b[0m\n\u001b[0m\u001b[0;32m      3\u001b[0m \u001b[0mend_date\u001b[0m\u001b[1;33m=\u001b[0m\u001b[0mdf\u001b[0m\u001b[1;33m.\u001b[0m\u001b[0mdate\u001b[0m\u001b[1;33m.\u001b[0m\u001b[0mmax\u001b[0m\u001b[1;33m(\u001b[0m\u001b[1;33m)\u001b[0m\u001b[1;33m.\u001b[0m\u001b[0mstrftime\u001b[0m\u001b[1;33m(\u001b[0m\u001b[1;34m\"%Y%m%d\"\u001b[0m\u001b[1;33m)\u001b[0m\u001b[1;33m\u001b[0m\u001b[1;33m\u001b[0m\u001b[0m\n\u001b[0;32m      4\u001b[0m \u001b[0msave_name\u001b[0m\u001b[1;33m=\u001b[0m\u001b[1;34m\"OTP_{}_{}_{}\"\u001b[0m\u001b[1;33m\u001b[0m\u001b[1;33m\u001b[0m\u001b[0m\n\u001b[0;32m      5\u001b[0m \u001b[0msave_name\u001b[0m\u001b[1;33m=\u001b[0m\u001b[0msave_name\u001b[0m\u001b[1;33m.\u001b[0m\u001b[0mformat\u001b[0m\u001b[1;33m(\u001b[0m\u001b[0mstart_date\u001b[0m\u001b[1;33m,\u001b[0m\u001b[0mend_date\u001b[0m\u001b[1;33m,\u001b[0m\u001b[1;33m{\u001b[0m\u001b[1;33m}\u001b[0m\u001b[1;33m)\u001b[0m\u001b[1;33m\u001b[0m\u001b[1;33m\u001b[0m\u001b[0m\n",
      "\u001b[1;31mAttributeError\u001b[0m: 'float' object has no attribute 'strftime'"
     ]
    }
   ],
   "source": [
    "save_file=root.save_file+\"/{}{}\"\n",
    "start_date=df.date.min().strftime(\"%Y%m%d\")\n",
    "end_date=df.date.max().strftime(\"%Y%m%d\")\n",
    "save_name=\"OTP_{}_{}_{}\"\n",
    "save_name=save_name.format(start_date,end_date,{})"
   ]
  },
  {
   "cell_type": "code",
   "execution_count": null,
   "metadata": {
    "scrolled": true
   },
   "outputs": [],
   "source": [
    "def violinPlot(data,level='MasterRouteName',save_file=None,early=-1,late=5,size=(17,11)):\n",
    "    df=data\n",
    "    df.sort_values(['MasterRouteName','TripName','StopOrder'],inplace=True)\n",
    "    f,ax=plt.subplots(figsize=size)\n",
    "    plt.axhspan(early,late,color='green',alpha=.5,zorder=0)\n",
    "    plt.xticks(rotation=90)\n",
    "    plt.yticks(np.arange(-5, 25, step=5))\n",
    "    plt.ylim(-5,25)\n",
    "    plt.ylabel(\"Minutes from Schedule\")\n",
    "    if level=='MasterRouteName':\n",
    "        plot=sns.violinplot(x=df[level],y=df.Relative,ax=ax,scale='width',linewidth=0,palette=route_colors)\n",
    "        plt.xlabel='Route'\n",
    "    if level=='StopName':\n",
    "        plot=sns.violinplot(x=df[level],y=df.Relative,ax=ax,scale='width',linewidth=0)\n",
    "        plt.xlabel='Stop'\n",
    "    plt.title(\"Variance from Schedule\")\n",
    "    plt.tight_layout\n",
    "    if save_file:\n",
    "        plot.figure.savefig(save_file)\n",
    "    return plot\n",
    "if (root.violin) & (root.route=='All'):\n",
    "    violinPlot(df,save_file=save_file.format(save_name.format('violin'),\".pdf\"))\n",
    "if (root.violin) & (root.route!='All'):\n",
    "    violinPlot(df,save_file=save_file.format(save_name.format('{}_violin'.format(root.route)),\".pdf\"),level='StopName')"
   ]
  },
  {
   "cell_type": "code",
   "execution_count": null,
   "metadata": {
    "scrolled": true
   },
   "outputs": [],
   "source": [
    "def Quantiler(data,RouteName,Stop,save_file=None):\n",
    "    Stop_Quantiles=pd.DataFrame({'Route':[],\n",
    "                             'StopName':[],\n",
    "                             'ScheduledStopTime':[],\n",
    "                             'Min':[],\n",
    "                             'TenPercentQuant':[],\n",
    "                             'TwentyFivePercentQuant':[],\n",
    "                             'FiftyPercentQuant':[],\n",
    "                             'SeventyFivePercentQuant':[],\n",
    "                             'NinetyPercentQuant':[],\n",
    "                             'Max':[],\n",
    "                                'Range':[],\n",
    "                                'Mid80':[]})\n",
    "    cols=Stop_Quantiles.columns\n",
    "    route=data.loc[data['MasterRouteName']==RouteName]\n",
    "    route=route.sort_values(['ScheduledTripStart','StopOrder'])\n",
    "    route['TravelTime']=route.DepartTime.diff()\n",
    "    route.loc[route.ScheduledTripStart!=route.ScheduledTripStart.shift(1),'TravelTime']=None\n",
    "    route['TravelDec']=(route.TravelTime.dt.total_seconds())/60\n",
    "    route.loc[route.TravelDec<=0,'TravelDec']=None\n",
    "    route.loc[route.TravelDec>100,'TravelDec']=None\n",
    "    route_stop=route.loc[route['StopName']==Stop]\n",
    "    for i in route_stop['time'].unique():\n",
    "        time=route_stop.loc[route_stop['time']==i]\n",
    "        Route=time['MasterRouteName'].iloc[0]\n",
    "        StopName=time['StopName'].iloc[0]\n",
    "        ScheduledStopTime=i\n",
    "        Min=time['TravelDec'].min()\n",
    "        TenPercentQuant=time['TravelDec'].quantile(q=.1)\n",
    "        TwentyFivePercentQuant=time['TravelDec'].quantile(q=.25)\n",
    "        FiftyPercentQuant=time['TravelDec'].quantile(q=.5)\n",
    "        SeventyFivePercentQuant=time['TravelDec'].quantile(q=.75)\n",
    "        NinetyPercentQuant=time['TravelDec'].quantile(q=.9)\n",
    "        Max=time['TravelDec'].max()\n",
    "        Range=Max-Min\n",
    "        Mid80=NinetyPercentQuant-TenPercentQuant\n",
    "        time_Quantiles=pd.DataFrame({'Route':[Route],\n",
    "                                     'StopName':[StopName],\n",
    "                                     'ScheduledStopTime':[ScheduledStopTime],\n",
    "                                     'Min':[round(Min,1)],\n",
    "                                     'TenPercentQuant':[round(TenPercentQuant,1)],\n",
    "                                     'TwentyFivePercentQuant':[round(TwentyFivePercentQuant,1)],\n",
    "                                     'FiftyPercentQuant':[round(FiftyPercentQuant,1)],\n",
    "                                     'SeventyFivePercentQuant':[round(SeventyFivePercentQuant,1)],\n",
    "                                     'NinetyPercentQuant':[round(NinetyPercentQuant,1)],\n",
    "                                     'Max':[round(Max,1)],\n",
    "                                     'Range':[round(Range,1)],\n",
    "                                     'Mid80':[round(Mid80,1)]\n",
    "                                    })\n",
    "        Stop_Quantiles=Stop_Quantiles.append(time_Quantiles)\n",
    "    Stop_Quantiles=Stop_Quantiles[cols]\n",
    "    Stop_Quantiles.sort_values('ScheduledStopTime',inplace=True)\n",
    "    if save_file:\n",
    "        Stop_Quantiles.to_excel(save_file,index=False)\n",
    "    return Stop_Quantiles\n",
    "if root.quantiles:\n",
    "    df=cleanOTPData(root.otp)\n",
    "    if root.route!='All':\n",
    "        df=filterData(df,root.route)\n",
    "    df=getRelativeTimes(df)\n",
    "    df=getDatesTimes(df)\n",
    "    if root.route!='All':\n",
    "        if second.stop!='All':\n",
    "            Quantiler(df,root.route,second.stop,save_file=save_file.format(save_name.format('{}_{}_quantiles'.format(root.route,second.stop)),\".xlsx\"))\n",
    "        else:\n",
    "            for i in df.StopName.unique():\n",
    "                Quantiler(df,root.route,i,save_file=save_file.format(save_name.format('{}_{}_quantiles'.format(root.route,i)),\".xlsx\"))\n",
    "    else:\n",
    "        for i in df.MasterRouteName.unique():\n",
    "            df2=filterData(df,i)\n",
    "            for j in df2.StopName.unique():\n",
    "                Quantiler(df2,i,j,save_file=save_file.format(save_name.format('{}_{}_quantiles'.format(i,j)),\".xlsx\"))\n"
   ]
  },
  {
   "cell_type": "code",
   "execution_count": null,
   "metadata": {},
   "outputs": [],
   "source": []
  }
 ],
 "metadata": {
  "kernelspec": {
   "display_name": "Python 3",
   "language": "python",
   "name": "python3"
  },
  "language_info": {
   "codemirror_mode": {
    "name": "ipython",
    "version": 3
   },
   "file_extension": ".py",
   "mimetype": "text/x-python",
   "name": "python",
   "nbconvert_exporter": "python",
   "pygments_lexer": "ipython3",
   "version": "3.7.1"
  }
 },
 "nbformat": 4,
 "nbformat_minor": 2
}
