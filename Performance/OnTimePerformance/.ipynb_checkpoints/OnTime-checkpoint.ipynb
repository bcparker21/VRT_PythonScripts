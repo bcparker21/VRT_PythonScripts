{
 "cells": [
  {
   "cell_type": "code",
   "execution_count": 1,
   "metadata": {},
   "outputs": [],
   "source": [
    "import matplotlib.pyplot as plt\n",
    "import matplotlib\n",
    "import pandas as pd\n",
    "import re\n",
    "import seaborn as sns\n",
    "import numpy as np\n",
    "import datetime\n",
    "import gtfstk as gt\n",
    "%matplotlib inline\n",
    "matplotlib.rcParams['pdf.fonttype']=42\n",
    "matplotlib.rcParams['ps.fonttype']=42"
   ]
  },
  {
   "cell_type": "code",
   "execution_count": 2,
   "metadata": {},
   "outputs": [
    {
     "ename": "FileNotFoundError",
     "evalue": "File b'N:\\\\Planning - New File Structure\\\\Performance\\\\OTP_FY18.csv' does not exist",
     "output_type": "error",
     "traceback": [
      "\u001b[1;31m---------------------------------------------------------------------------\u001b[0m",
      "\u001b[1;31mFileNotFoundError\u001b[0m                         Traceback (most recent call last)",
      "\u001b[1;32m<ipython-input-2-781f52cf8f63>\u001b[0m in \u001b[0;36m<module>\u001b[1;34m\u001b[0m\n\u001b[0;32m      1\u001b[0m \u001b[1;31m# Read in data\u001b[0m\u001b[1;33m\u001b[0m\u001b[1;33m\u001b[0m\u001b[1;33m\u001b[0m\u001b[0m\n\u001b[1;32m----> 2\u001b[1;33m \u001b[0mOTP_data\u001b[0m\u001b[1;33m=\u001b[0m\u001b[0mpd\u001b[0m\u001b[1;33m.\u001b[0m\u001b[0mread_csv\u001b[0m\u001b[1;33m(\u001b[0m\u001b[1;34mr\"N:\\Planning - New File Structure\\Performance\\OTP_FY18.csv\"\u001b[0m\u001b[1;33m)\u001b[0m\u001b[1;33m\u001b[0m\u001b[1;33m\u001b[0m\u001b[0m\n\u001b[0m\u001b[0;32m      3\u001b[0m \u001b[0mOTP_data\u001b[0m\u001b[1;33m[\u001b[0m\u001b[1;34m'DepartTime'\u001b[0m\u001b[1;33m]\u001b[0m\u001b[1;33m=\u001b[0m\u001b[0mpd\u001b[0m\u001b[1;33m.\u001b[0m\u001b[0mto_datetime\u001b[0m\u001b[1;33m(\u001b[0m\u001b[0mOTP_data\u001b[0m\u001b[1;33m[\u001b[0m\u001b[1;34m'DepartTime'\u001b[0m\u001b[1;33m]\u001b[0m\u001b[1;33m)\u001b[0m\u001b[1;33m\u001b[0m\u001b[1;33m\u001b[0m\u001b[0m\n\u001b[0;32m      4\u001b[0m \u001b[0mOTP_data\u001b[0m\u001b[1;33m[\u001b[0m\u001b[1;34m'ScheduledStopTime'\u001b[0m\u001b[1;33m]\u001b[0m\u001b[1;33m=\u001b[0m\u001b[0mpd\u001b[0m\u001b[1;33m.\u001b[0m\u001b[0mto_datetime\u001b[0m\u001b[1;33m(\u001b[0m\u001b[0mOTP_data\u001b[0m\u001b[1;33m[\u001b[0m\u001b[1;34m'ScheduledStopTime'\u001b[0m\u001b[1;33m]\u001b[0m\u001b[1;33m)\u001b[0m\u001b[1;33m\u001b[0m\u001b[1;33m\u001b[0m\u001b[0m\n\u001b[0;32m      5\u001b[0m \u001b[0mOTP_data\u001b[0m\u001b[1;33m[\u001b[0m\u001b[1;34m'ArriveTime'\u001b[0m\u001b[1;33m]\u001b[0m\u001b[1;33m=\u001b[0m\u001b[0mpd\u001b[0m\u001b[1;33m.\u001b[0m\u001b[0mto_datetime\u001b[0m\u001b[1;33m(\u001b[0m\u001b[0mOTP_data\u001b[0m\u001b[1;33m[\u001b[0m\u001b[1;34m'ArriveTime'\u001b[0m\u001b[1;33m]\u001b[0m\u001b[1;33m)\u001b[0m\u001b[1;33m\u001b[0m\u001b[1;33m\u001b[0m\u001b[0m\n",
      "\u001b[1;32mc:\\users\\bparker\\appdata\\local\\conda\\conda\\envs\\py3\\lib\\site-packages\\pandas\\io\\parsers.py\u001b[0m in \u001b[0;36mparser_f\u001b[1;34m(filepath_or_buffer, sep, delimiter, header, names, index_col, usecols, squeeze, prefix, mangle_dupe_cols, dtype, engine, converters, true_values, false_values, skipinitialspace, skiprows, nrows, na_values, keep_default_na, na_filter, verbose, skip_blank_lines, parse_dates, infer_datetime_format, keep_date_col, date_parser, dayfirst, iterator, chunksize, compression, thousands, decimal, lineterminator, quotechar, quoting, escapechar, comment, encoding, dialect, tupleize_cols, error_bad_lines, warn_bad_lines, skipfooter, doublequote, delim_whitespace, low_memory, memory_map, float_precision)\u001b[0m\n\u001b[0;32m    676\u001b[0m                     skip_blank_lines=skip_blank_lines)\n\u001b[0;32m    677\u001b[0m \u001b[1;33m\u001b[0m\u001b[0m\n\u001b[1;32m--> 678\u001b[1;33m         \u001b[1;32mreturn\u001b[0m \u001b[0m_read\u001b[0m\u001b[1;33m(\u001b[0m\u001b[0mfilepath_or_buffer\u001b[0m\u001b[1;33m,\u001b[0m \u001b[0mkwds\u001b[0m\u001b[1;33m)\u001b[0m\u001b[1;33m\u001b[0m\u001b[1;33m\u001b[0m\u001b[0m\n\u001b[0m\u001b[0;32m    679\u001b[0m \u001b[1;33m\u001b[0m\u001b[0m\n\u001b[0;32m    680\u001b[0m     \u001b[0mparser_f\u001b[0m\u001b[1;33m.\u001b[0m\u001b[0m__name__\u001b[0m \u001b[1;33m=\u001b[0m \u001b[0mname\u001b[0m\u001b[1;33m\u001b[0m\u001b[1;33m\u001b[0m\u001b[0m\n",
      "\u001b[1;32mc:\\users\\bparker\\appdata\\local\\conda\\conda\\envs\\py3\\lib\\site-packages\\pandas\\io\\parsers.py\u001b[0m in \u001b[0;36m_read\u001b[1;34m(filepath_or_buffer, kwds)\u001b[0m\n\u001b[0;32m    438\u001b[0m \u001b[1;33m\u001b[0m\u001b[0m\n\u001b[0;32m    439\u001b[0m     \u001b[1;31m# Create the parser.\u001b[0m\u001b[1;33m\u001b[0m\u001b[1;33m\u001b[0m\u001b[1;33m\u001b[0m\u001b[0m\n\u001b[1;32m--> 440\u001b[1;33m     \u001b[0mparser\u001b[0m \u001b[1;33m=\u001b[0m \u001b[0mTextFileReader\u001b[0m\u001b[1;33m(\u001b[0m\u001b[0mfilepath_or_buffer\u001b[0m\u001b[1;33m,\u001b[0m \u001b[1;33m**\u001b[0m\u001b[0mkwds\u001b[0m\u001b[1;33m)\u001b[0m\u001b[1;33m\u001b[0m\u001b[1;33m\u001b[0m\u001b[0m\n\u001b[0m\u001b[0;32m    441\u001b[0m \u001b[1;33m\u001b[0m\u001b[0m\n\u001b[0;32m    442\u001b[0m     \u001b[1;32mif\u001b[0m \u001b[0mchunksize\u001b[0m \u001b[1;32mor\u001b[0m \u001b[0miterator\u001b[0m\u001b[1;33m:\u001b[0m\u001b[1;33m\u001b[0m\u001b[1;33m\u001b[0m\u001b[0m\n",
      "\u001b[1;32mc:\\users\\bparker\\appdata\\local\\conda\\conda\\envs\\py3\\lib\\site-packages\\pandas\\io\\parsers.py\u001b[0m in \u001b[0;36m__init__\u001b[1;34m(self, f, engine, **kwds)\u001b[0m\n\u001b[0;32m    785\u001b[0m             \u001b[0mself\u001b[0m\u001b[1;33m.\u001b[0m\u001b[0moptions\u001b[0m\u001b[1;33m[\u001b[0m\u001b[1;34m'has_index_names'\u001b[0m\u001b[1;33m]\u001b[0m \u001b[1;33m=\u001b[0m \u001b[0mkwds\u001b[0m\u001b[1;33m[\u001b[0m\u001b[1;34m'has_index_names'\u001b[0m\u001b[1;33m]\u001b[0m\u001b[1;33m\u001b[0m\u001b[1;33m\u001b[0m\u001b[0m\n\u001b[0;32m    786\u001b[0m \u001b[1;33m\u001b[0m\u001b[0m\n\u001b[1;32m--> 787\u001b[1;33m         \u001b[0mself\u001b[0m\u001b[1;33m.\u001b[0m\u001b[0m_make_engine\u001b[0m\u001b[1;33m(\u001b[0m\u001b[0mself\u001b[0m\u001b[1;33m.\u001b[0m\u001b[0mengine\u001b[0m\u001b[1;33m)\u001b[0m\u001b[1;33m\u001b[0m\u001b[1;33m\u001b[0m\u001b[0m\n\u001b[0m\u001b[0;32m    788\u001b[0m \u001b[1;33m\u001b[0m\u001b[0m\n\u001b[0;32m    789\u001b[0m     \u001b[1;32mdef\u001b[0m \u001b[0mclose\u001b[0m\u001b[1;33m(\u001b[0m\u001b[0mself\u001b[0m\u001b[1;33m)\u001b[0m\u001b[1;33m:\u001b[0m\u001b[1;33m\u001b[0m\u001b[1;33m\u001b[0m\u001b[0m\n",
      "\u001b[1;32mc:\\users\\bparker\\appdata\\local\\conda\\conda\\envs\\py3\\lib\\site-packages\\pandas\\io\\parsers.py\u001b[0m in \u001b[0;36m_make_engine\u001b[1;34m(self, engine)\u001b[0m\n\u001b[0;32m   1012\u001b[0m     \u001b[1;32mdef\u001b[0m \u001b[0m_make_engine\u001b[0m\u001b[1;33m(\u001b[0m\u001b[0mself\u001b[0m\u001b[1;33m,\u001b[0m \u001b[0mengine\u001b[0m\u001b[1;33m=\u001b[0m\u001b[1;34m'c'\u001b[0m\u001b[1;33m)\u001b[0m\u001b[1;33m:\u001b[0m\u001b[1;33m\u001b[0m\u001b[1;33m\u001b[0m\u001b[0m\n\u001b[0;32m   1013\u001b[0m         \u001b[1;32mif\u001b[0m \u001b[0mengine\u001b[0m \u001b[1;33m==\u001b[0m \u001b[1;34m'c'\u001b[0m\u001b[1;33m:\u001b[0m\u001b[1;33m\u001b[0m\u001b[1;33m\u001b[0m\u001b[0m\n\u001b[1;32m-> 1014\u001b[1;33m             \u001b[0mself\u001b[0m\u001b[1;33m.\u001b[0m\u001b[0m_engine\u001b[0m \u001b[1;33m=\u001b[0m \u001b[0mCParserWrapper\u001b[0m\u001b[1;33m(\u001b[0m\u001b[0mself\u001b[0m\u001b[1;33m.\u001b[0m\u001b[0mf\u001b[0m\u001b[1;33m,\u001b[0m \u001b[1;33m**\u001b[0m\u001b[0mself\u001b[0m\u001b[1;33m.\u001b[0m\u001b[0moptions\u001b[0m\u001b[1;33m)\u001b[0m\u001b[1;33m\u001b[0m\u001b[1;33m\u001b[0m\u001b[0m\n\u001b[0m\u001b[0;32m   1015\u001b[0m         \u001b[1;32melse\u001b[0m\u001b[1;33m:\u001b[0m\u001b[1;33m\u001b[0m\u001b[1;33m\u001b[0m\u001b[0m\n\u001b[0;32m   1016\u001b[0m             \u001b[1;32mif\u001b[0m \u001b[0mengine\u001b[0m \u001b[1;33m==\u001b[0m \u001b[1;34m'python'\u001b[0m\u001b[1;33m:\u001b[0m\u001b[1;33m\u001b[0m\u001b[1;33m\u001b[0m\u001b[0m\n",
      "\u001b[1;32mc:\\users\\bparker\\appdata\\local\\conda\\conda\\envs\\py3\\lib\\site-packages\\pandas\\io\\parsers.py\u001b[0m in \u001b[0;36m__init__\u001b[1;34m(self, src, **kwds)\u001b[0m\n\u001b[0;32m   1706\u001b[0m         \u001b[0mkwds\u001b[0m\u001b[1;33m[\u001b[0m\u001b[1;34m'usecols'\u001b[0m\u001b[1;33m]\u001b[0m \u001b[1;33m=\u001b[0m \u001b[0mself\u001b[0m\u001b[1;33m.\u001b[0m\u001b[0musecols\u001b[0m\u001b[1;33m\u001b[0m\u001b[1;33m\u001b[0m\u001b[0m\n\u001b[0;32m   1707\u001b[0m \u001b[1;33m\u001b[0m\u001b[0m\n\u001b[1;32m-> 1708\u001b[1;33m         \u001b[0mself\u001b[0m\u001b[1;33m.\u001b[0m\u001b[0m_reader\u001b[0m \u001b[1;33m=\u001b[0m \u001b[0mparsers\u001b[0m\u001b[1;33m.\u001b[0m\u001b[0mTextReader\u001b[0m\u001b[1;33m(\u001b[0m\u001b[0msrc\u001b[0m\u001b[1;33m,\u001b[0m \u001b[1;33m**\u001b[0m\u001b[0mkwds\u001b[0m\u001b[1;33m)\u001b[0m\u001b[1;33m\u001b[0m\u001b[1;33m\u001b[0m\u001b[0m\n\u001b[0m\u001b[0;32m   1709\u001b[0m \u001b[1;33m\u001b[0m\u001b[0m\n\u001b[0;32m   1710\u001b[0m         \u001b[0mpassed_names\u001b[0m \u001b[1;33m=\u001b[0m \u001b[0mself\u001b[0m\u001b[1;33m.\u001b[0m\u001b[0mnames\u001b[0m \u001b[1;32mis\u001b[0m \u001b[1;32mNone\u001b[0m\u001b[1;33m\u001b[0m\u001b[1;33m\u001b[0m\u001b[0m\n",
      "\u001b[1;32mpandas/_libs/parsers.pyx\u001b[0m in \u001b[0;36mpandas._libs.parsers.TextReader.__cinit__\u001b[1;34m()\u001b[0m\n",
      "\u001b[1;32mpandas/_libs/parsers.pyx\u001b[0m in \u001b[0;36mpandas._libs.parsers.TextReader._setup_parser_source\u001b[1;34m()\u001b[0m\n",
      "\u001b[1;31mFileNotFoundError\u001b[0m: File b'N:\\\\Planning - New File Structure\\\\Performance\\\\OTP_FY18.csv' does not exist"
     ]
    }
   ],
   "source": [
    "# Read in data\n",
    "OTP_data=pd.read_csv(r\"N:\\Planning - New File Structure\\Performance\\OTP_FY18.csv\")\n",
    "OTP_data['DepartTime']=pd.to_datetime(OTP_data['DepartTime'])\n",
    "OTP_data['ScheduledStopTime']=pd.to_datetime(OTP_data['ScheduledStopTime'])\n",
    "OTP_data['ArriveTime']=pd.to_datetime(OTP_data['ArriveTime'])"
   ]
  },
  {
   "cell_type": "code",
   "execution_count": null,
   "metadata": {},
   "outputs": [],
   "source": [
    "# Calculate difference between scheduled and actual departure time\n",
    "OTP_data['Relative']=OTP_data['DepartTime']-OTP_data['ScheduledStopTime']"
   ]
  },
  {
   "cell_type": "code",
   "execution_count": null,
   "metadata": {},
   "outputs": [],
   "source": [
    "# Identify bad data points\n",
    "OTP_data=OTP_data.dropna(subset=['DepartTime'])\n",
    "OTP_data['Invalid']=np.logical_or(np.logical_or(OTP_data['Relative']>datetime.timedelta(hours=2),OTP_data['Relative']<datetime.timedelta(hours=1)),(OTP_data['DepartTime']<OTP_data['ArriveTime']))"
   ]
  },
  {
   "cell_type": "code",
   "execution_count": null,
   "metadata": {},
   "outputs": [],
   "source": [
    "# Identify terminals\n",
    "OTP_data['Start']=np.where(OTP_data['ScheduledTripStart']==OTP_data['ScheduledStopTime'],True,False)\n",
    "OTP_data['End']=np.where(OTP_data['ScheduledTripEnd']==OTP_data['ScheduledStopTime'],True,False)\n",
    "OTP_data['Terminal']=np.logical_or(OTP_data['Start'],OTP_data['End'])"
   ]
  },
  {
   "cell_type": "code",
   "execution_count": null,
   "metadata": {},
   "outputs": [],
   "source": [
    "OTP_data.drop(['Invalid'],axis=1,inplace=True)"
   ]
  },
  {
   "cell_type": "code",
   "execution_count": null,
   "metadata": {},
   "outputs": [],
   "source": [
    "# Format data for use in graphs and such\n",
    "OTP_data['date']=OTP_data['ScheduledStopTime'].dt.date\n",
    "OTP_data['time']=OTP_data['ScheduledStopTime'].dt.time\n",
    "OTP_data['hour']=[r.hour for r in OTP_data.time]\n",
    "OTP_data['minutes']=[r.hour*60+r.minute for r in OTP_data.time]\n",
    "OTP_data['ToDdec']=OTP_data['minutes']/60\n",
    "OTP_data['RelArrive']=OTP_data['ArriveTime']-OTP_data['ScheduledStopTime']\n",
    "OTP_data['RelArrNum']=(pd.to_numeric(OTP_data['RelArrive'],downcast='integer'))/60000000000\n",
    "OTP_data['RelNum']=(pd.to_numeric(OTP_data['Relative'],downcast='integer'))/60000000000\n",
    "OTP_data['RelNum'].loc[OTP_data['End']]=OTP_data['RelArrNum']\n",
    "OTP_data.sort_values(by='MasterRouteName',inplace=True)"
   ]
  },
  {
   "cell_type": "code",
   "execution_count": null,
   "metadata": {},
   "outputs": [],
   "source": [
    "# Classify as early, on time, or late\n",
    "OTP_data['Early']=np.where(OTP_data['RelNum']<-1,True,False)\n",
    "OTP_data['Late']=np.where(OTP_data['RelNum']>5,True,False)\n",
    "OTP_data['OnTime']=np.logical_and(OTP_data['Early']==False,OTP_data['Late']==False)"
   ]
  },
  {
   "cell_type": "code",
   "execution_count": null,
   "metadata": {},
   "outputs": [],
   "source": [
    "# Make a column for better labeling purposes\n",
    "OTP_data['OnTimeLabel']='Not On Time'\n",
    "OTP_data['OnTimeLabel'].loc[OTP_data['OnTime']]='On Time'"
   ]
  },
  {
   "cell_type": "code",
   "execution_count": null,
   "metadata": {},
   "outputs": [],
   "source": [
    "# Draw violin plot\n",
    "# These look slightly different than as published in annual report. I updated seaborn and I suspect that the drawing function changed slightly.\n",
    "f, ax = plt.subplots(figsize=(15,6))\n",
    "violin=sns.violinplot(x=OTP_data.MasterRouteName,y=OTP_data.RelNum,ax=ax,scale=\"width\",linewidth=0)\n",
    "plt.xticks(rotation=90)\n",
    "plt.yticks(np.arange(-5, 25, step=5))\n",
    "plt.ylim(-5,25)\n",
    "plt.ylabel(\"Minutes from Schedule\")\n",
    "plt.xlabel(\"Route\")\n",
    "plt.axhspan(-1,5,color='green',alpha=.5)\n",
    "plt.tight_layout()"
   ]
  },
  {
   "cell_type": "code",
   "execution_count": null,
   "metadata": {},
   "outputs": [],
   "source": [
    "# Export to clean up in Illustrator\n",
    "violin.figure.savefig(r\"N:\\Planning - New File Structure\\Performance\\Annual Report\\VRT_ontime_violin.pdf\",transparent=True)"
   ]
  },
  {
   "cell_type": "code",
   "execution_count": null,
   "metadata": {},
   "outputs": [],
   "source": [
    "# Select Ada County Routes\n",
    "Ada=OTP_data.loc[(OTP_data['MasterRouteName']=='Route 1 Parkcenter')\n",
    "                 |(OTP_data['MasterRouteName']=='Route 10 Hill Road')\n",
    "                 |(OTP_data['MasterRouteName']=='Route 11 Garden City')\n",
    "                |(OTP_data['MasterRouteName']=='Route 14 Hyde Park')\n",
    "                 |(OTP_data['MasterRouteName']=='Route 16 VA Shuttle')\n",
    "                |(OTP_data['MasterRouteName']=='Route 17 Warm Springs')\n",
    "                |(OTP_data['MasterRouteName']=='Route 18 Harris Ranch')\n",
    "                 |(OTP_data['MasterRouteName']=='Route 2 Broadway')\n",
    "                |(OTP_data['MasterRouteName']=='Route 28 Cole / Victory')\n",
    "                |(OTP_data['MasterRouteName']=='Route 29 Overland')\n",
    "                |(OTP_data['MasterRouteName']=='Route 3 Vista')\n",
    "                |(OTP_data['MasterRouteName']=='Route 4 Roosevelt')\n",
    "                |(OTP_data['MasterRouteName']=='Route 5 Emerald')\n",
    "                |(OTP_data['MasterRouteName']=='Route 6 Orchard')\n",
    "                |(OTP_data['MasterRouteName']=='Route 7A Fairview Ustick')\n",
    "                |(OTP_data['MasterRouteName']=='Route 7B Fairview - Towne Square Mall')\n",
    "                |(OTP_data['MasterRouteName']=='Route 7B Fairview Towne Square Mall')\n",
    "                |(OTP_data['MasterRouteName']=='Route 8 Five Mile')\n",
    "                |(OTP_data['MasterRouteName']=='Route 8x Five Mile Chinden')\n",
    "                |(OTP_data['MasterRouteName']=='Route 9 State Street')\n",
    "                |(OTP_data['MasterRouteName']=='Route 9x State Street')]"
   ]
  },
  {
   "cell_type": "code",
   "execution_count": null,
   "metadata": {},
   "outputs": [],
   "source": [
    "# Select Canyon County Routes\n",
    "Canyon=OTP_data.loc[(OTP_data['MasterRouteName']=='Route 51 East Nampa')\n",
    "                   |(OTP_data['MasterRouteName']=='Route 51 Nampa South')\n",
    "                    |(OTP_data['MasterRouteName']=='Route 52 Caldwell Blvd')\n",
    "                    |(OTP_data['MasterRouteName']=='Route 52 Caldwell North')\n",
    "                    |(OTP_data['MasterRouteName']=='Route 53 Nampa North')\n",
    "                    |(OTP_data['MasterRouteName']=='Route 54 Caldwell South')\n",
    "                   |(OTP_data['MasterRouteName']=='Route 55 CWI Shuttle')]"
   ]
  },
  {
   "cell_type": "code",
   "execution_count": null,
   "metadata": {},
   "outputs": [],
   "source": [
    "# Select Intercounty Routes\n",
    "Intercounty=OTP_data.loc[(OTP_data['MasterRouteName']=='Route 40 Nampa/Meridian Express')\n",
    "                        |(OTP_data['MasterRouteName']=='Route 41 Happy Day to Towne Square Mall')\n",
    "                         |(OTP_data['MasterRouteName']=='Route 42 CWI/Towne Square Mall')\n",
    "                        |(OTP_data['MasterRouteName']=='Route 43 Caldwell Express')\n",
    "                        |(OTP_data['MasterRouteName']=='Route 44 Hwy 44 Express')\n",
    "                        |(OTP_data['MasterRouteName']=='Route 45 BSU Express')]"
   ]
  },
  {
   "cell_type": "code",
   "execution_count": null,
   "metadata": {},
   "outputs": [],
   "source": [
    "# Select Peak Hour timepoints\n",
    "AdaPeak=Ada.loc[((Ada['ToDdec']>=6)&(Ada['ToDdec']<=9))|((Ada['ToDdec']>=16)&(Ada['ToDdec']<=19))]"
   ]
  },
  {
   "cell_type": "code",
   "execution_count": null,
   "metadata": {},
   "outputs": [],
   "source": [
    "CanyonPeak=Canyon.loc[((Canyon['ToDdec']>=6)&(Canyon['ToDdec']<=9))|((Canyon['ToDdec']>=16)&(Canyon['ToDdec']<=19))]"
   ]
  },
  {
   "cell_type": "code",
   "execution_count": null,
   "metadata": {},
   "outputs": [],
   "source": [
    "IntercountyPeak=Intercounty.loc[((Intercounty['ToDdec']>=6)&(Intercounty['ToDdec']<=9))|((Intercounty['ToDdec']>=16)&(Intercounty['ToDdec']<=19))]"
   ]
  },
  {
   "cell_type": "code",
   "execution_count": null,
   "metadata": {},
   "outputs": [],
   "source": [
    "# Combine to single dataframe, convert to percentages\n",
    "summary=pd.DataFrame({'Early':[Ada.Early.sum(),AdaPeak.Early.sum(),Canyon.Early.sum(),CanyonPeak.Early.sum(),Intercounty.Early.sum(),IntercountyPeak.Early.sum()],'On Time':[Ada.OnTime.sum(),AdaPeak.OnTime.sum(),Canyon.OnTime.sum(),CanyonPeak.OnTime.sum(),Intercounty.OnTime.sum(),IntercountyPeak.OnTime.sum()],'Late':[Ada.Late.sum(),AdaPeak.Late.sum(),Canyon.Late.sum(),CanyonPeak.Late.sum(),Intercounty.Late.sum(),IntercountyPeak.Late.sum()]},index=['Ada County','Ada County Peak','Canyon County','Canyon County Peak','Intercounty','Intercounty Peak'])\n",
    "summary['Total']=summary.sum(axis=1)\n",
    "summaryPct=summary\n",
    "summaryPct['EarlyPct']=round(summary['Early']/summary['Total']*100,1)\n",
    "summaryPct['On TimePct']=round(summary['On Time']/summary['Total']*100,1)\n",
    "summaryPct['LatePct']=round(summary['Late']/summary['Total']*100,1)\n",
    "summaryPct.drop('Total',axis=1,inplace=True)\n",
    "summaryPct"
   ]
  },
  {
   "cell_type": "code",
   "execution_count": null,
   "metadata": {},
   "outputs": [],
   "source": [
    "# Repeat process with FY17 Data"
   ]
  }
 ],
 "metadata": {
  "kernelspec": {
   "display_name": "Python 3",
   "language": "python",
   "name": "python3"
  },
  "language_info": {
   "codemirror_mode": {
    "name": "ipython",
    "version": 3
   },
   "file_extension": ".py",
   "mimetype": "text/x-python",
   "name": "python",
   "nbconvert_exporter": "python",
   "pygments_lexer": "ipython3",
   "version": "3.7.1"
  }
 },
 "nbformat": 4,
 "nbformat_minor": 2
}
