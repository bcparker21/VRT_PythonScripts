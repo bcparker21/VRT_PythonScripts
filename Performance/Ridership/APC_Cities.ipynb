{
 "cells": [
  {
   "cell_type": "code",
   "execution_count": 14,
   "metadata": {},
   "outputs": [],
   "source": [
    "import pandas as pd\n",
    "import gtfstk as gt\n",
    "import geopandas as gpd\n",
    "import datetime as dt\n",
    "import numpy as np\n",
    "import tkinter as tk\n",
    "import requests, zipfile, io, os, re, shutil\n",
    "from tkinter import filedialog\n",
    "from shapely.geometry import Point\n",
    "%matplotlib inline"
   ]
  },
  {
   "cell_type": "code",
   "execution_count": 15,
   "metadata": {},
   "outputs": [],
   "source": [
    "crs={'init':'epsg:4326'} # WGS84 projection\n",
    "buffer_distance=.125\n",
    "one_deg_lat=69.05397727272727 # miles\n",
    "one_deg_lon=48.99318181818182 # miles\n",
    "conversion_deg=(np.mean([one_deg_lat,one_deg_lon]))\n",
    "buffer_distance_deg=buffer_distance/conversion_deg"
   ]
  },
  {
   "cell_type": "code",
   "execution_count": 16,
   "metadata": {},
   "outputs": [],
   "source": [
    "idaho='16'\n",
    "ada_county='001'\n",
    "canyon_county='027'\n",
    "places_url=r\"https://www2.census.gov/geo/tiger/TIGER2018/PLACE/tl_2018_16_place.zip\"\n",
    "counties_url=r\"https://www2.census.gov/geo/tiger/TIGER2018/COUNTY/tl_2018_us_county.zip\""
   ]
  },
  {
   "cell_type": "code",
   "execution_count": 17,
   "metadata": {},
   "outputs": [],
   "source": [
    "def readOnlineShapefile(url,name):\n",
    "    zip_file_url=url\n",
    "    r=requests.get(zip_file_url)\n",
    "    z=zipfile.ZipFile(io.BytesIO(r.content))\n",
    "    z.extractall(str(name))\n",
    "    gdf=gpd.read_file(str(name))\n",
    "    shutil.rmtree(str(name))\n",
    "    return gdf\n",
    "places=readOnlineShapefile(places_url,'places')"
   ]
  },
  {
   "cell_type": "code",
   "execution_count": 18,
   "metadata": {
    "scrolled": true
   },
   "outputs": [],
   "source": [
    "cities=['Boise City',\n",
    "        'Caldwell',\n",
    "        'Eagle',\n",
    "        'Garden City',\n",
    "        'Greenleaf',\n",
    "        'Kuna',\n",
    "        'Melba',\n",
    "        'Meridian',\n",
    "        'Middleton',\n",
    "        'Nampa',\n",
    "        'Notus',\n",
    "        'Parma',\n",
    "        'Star',\n",
    "        'Wilder']\n",
    "places=places.loc[places['NAME'].isin(cities)]\n",
    "places.sort_values('NAME',inplace=True)"
   ]
  },
  {
   "cell_type": "code",
   "execution_count": null,
   "metadata": {
    "scrolled": true
   },
   "outputs": [],
   "source": [
    "def getVRTServiceArea(url,name):\n",
    "    gdf=readOnlineShapefile(url,name)\n",
    "    gdf=gdf.loc[(gdf['STATEFP']==idaho)&((gdf['COUNTYFP']==ada_county)|(gdf['COUNTYFP']==canyon_county))]\n",
    "    return gdf\n",
    "counties=getVRTServiceArea(counties_url,'counties')"
   ]
  },
  {
   "cell_type": "code",
   "execution_count": null,
   "metadata": {
    "scrolled": true
   },
   "outputs": [],
   "source": [
    "unincorporated=gpd.overlay(counties,places,how='difference')\n",
    "jurisdictions=gpd.GeoDataFrame(pd.concat([places,unincorporated],ignore_index=True))"
   ]
  },
  {
   "cell_type": "code",
   "execution_count": null,
   "metadata": {},
   "outputs": [],
   "source": [
    "# jurisdictions['NAMELSAD']=jurisdictions['NAMELSAD'].str.title()\n",
    "jurisdictions['NAMELSAD'].replace({'city':''},regex=True,inplace=True)\n",
    "\n",
    "cityNamesArray=jurisdictions.NAMELSAD.unique()\n",
    "cityNames={i:cityNamesArray[i] for i in range(len(jurisdictions.NAMELSAD.unique()))}\n",
    "cityNames[len(cityNames)+1]='All'\n",
    "cityNames=cityNames.values()"
   ]
  },
  {
   "cell_type": "code",
   "execution_count": null,
   "metadata": {},
   "outputs": [],
   "source": [
    "def button_stop_summary_clicked():\n",
    "    root.stop_summary=filedialog.askopenfilename(initialdir=\"/\",title=\"Select Stop Summary Report\",filetypes = ((\"Excel\",\"*.xlsx\"),(\"all files\",\"*.*\")))\n",
    "def button_outfolder_clicked():\n",
    "    root.outfolder=filedialog.askdirectory(initialdir=\"/\",title=\"Select Output folder\")\n",
    "def button_cities_choices_clicked(*args):\n",
    "    root.city_choice=tkvar.get()\n",
    "def close_window():\n",
    "    root.city_choice=tkvar.get()\n",
    "    root.destroy()\n",
    "\n",
    "root=tk.Tk()\n",
    "root.title('Stops Cities')\n",
    "# root.geometry('350x200')\n",
    "\n",
    "tkvar=tk.StringVar(root)\n",
    "tkvar.set(\"All\")\n",
    "\n",
    "label_stop_summary=tk.Label(root,text='Select Stop Summary Report')\n",
    "label_stop_summary.grid(column=0,row=0)\n",
    "\n",
    "button_stop_summary=tk.Button(root,text=\"Browse\",command=button_stop_summary_clicked)\n",
    "button_stop_summary.grid(column=0,row=1)\n",
    "\n",
    "label_out=tk.Label(root,text=\"Select an output folder\")\n",
    "label_out.grid(column=0,row=2)\n",
    "\n",
    "button_out=tk.Button(root,text=\"Browse\",command=button_outfolder_clicked)\n",
    "button_out.grid(column=0,row=3)\n",
    "\n",
    "city_label=tk.Label(root,text=\"Pick a City\")\n",
    "city_label.grid(column=0,row=4)\n",
    "\n",
    "cities_choices=tk.OptionMenu(root,tkvar,*cityNames)\n",
    "cities_choices.grid(column=0,row=5)\n",
    "\n",
    "button_run=tk.Button(root,text='Run',width=25,command=close_window)\n",
    "button_run.grid(column=0,row=6)\n",
    "root.mainloop()"
   ]
  },
  {
   "cell_type": "code",
   "execution_count": 13,
   "metadata": {},
   "outputs": [
    {
     "data": {
      "text/plain": [
       "'Garden  '"
      ]
     },
     "execution_count": 13,
     "metadata": {},
     "output_type": "execute_result"
    }
   ],
   "source": [
    "root.city_choice"
   ]
  },
  {
   "cell_type": "code",
   "execution_count": 10,
   "metadata": {},
   "outputs": [
    {
     "ename": "AttributeError",
     "evalue": "'_tkinter.tkapp' object has no attribute 'outfolder'",
     "output_type": "error",
     "traceback": [
      "\u001b[1;31m---------------------------------------------------------------------------\u001b[0m",
      "\u001b[1;31mAttributeError\u001b[0m                            Traceback (most recent call last)",
      "\u001b[1;32m<ipython-input-10-43ba6b68f977>\u001b[0m in \u001b[0;36m<module>\u001b[1;34m\u001b[0m\n\u001b[1;32m----> 1\u001b[1;33m \u001b[0moutfolder\u001b[0m\u001b[1;33m=\u001b[0m\u001b[0mroot\u001b[0m\u001b[1;33m.\u001b[0m\u001b[0moutfolder\u001b[0m\u001b[1;33m\u001b[0m\u001b[1;33m\u001b[0m\u001b[0m\n\u001b[0m\u001b[0;32m      2\u001b[0m \u001b[1;32mif\u001b[0m \u001b[0mos\u001b[0m\u001b[1;33m.\u001b[0m\u001b[0mpath\u001b[0m\u001b[1;33m.\u001b[0m\u001b[0mexists\u001b[0m\u001b[1;33m(\u001b[0m\u001b[0moutfolder\u001b[0m\u001b[1;33m)\u001b[0m\u001b[1;33m:\u001b[0m\u001b[1;33m\u001b[0m\u001b[1;33m\u001b[0m\u001b[0m\n\u001b[0;32m      3\u001b[0m     \u001b[0moutfolder\u001b[0m\u001b[1;33m=\u001b[0m\u001b[0moutfolder\u001b[0m\u001b[1;33m+\u001b[0m\u001b[1;34m\"\\{}.{}\"\u001b[0m\u001b[1;33m\u001b[0m\u001b[1;33m\u001b[0m\u001b[0m\n\u001b[0;32m      4\u001b[0m \u001b[1;32melse\u001b[0m\u001b[1;33m:\u001b[0m\u001b[1;33m\u001b[0m\u001b[1;33m\u001b[0m\u001b[0m\n\u001b[0;32m      5\u001b[0m     \u001b[0mos\u001b[0m\u001b[1;33m.\u001b[0m\u001b[0mmkdir\u001b[0m\u001b[1;33m(\u001b[0m\u001b[0mroot\u001b[0m\u001b[1;33m.\u001b[0m\u001b[0moutfolder\u001b[0m\u001b[1;33m)\u001b[0m\u001b[1;33m\u001b[0m\u001b[1;33m\u001b[0m\u001b[0m\n",
      "\u001b[1;32mc:\\users\\bparker\\appdata\\local\\conda\\conda\\envs\\py3\\lib\\tkinter\\__init__.py\u001b[0m in \u001b[0;36m__getattr__\u001b[1;34m(self, attr)\u001b[0m\n\u001b[0;32m   2099\u001b[0m     \u001b[1;32mdef\u001b[0m \u001b[0m__getattr__\u001b[0m\u001b[1;33m(\u001b[0m\u001b[0mself\u001b[0m\u001b[1;33m,\u001b[0m \u001b[0mattr\u001b[0m\u001b[1;33m)\u001b[0m\u001b[1;33m:\u001b[0m\u001b[1;33m\u001b[0m\u001b[1;33m\u001b[0m\u001b[0m\n\u001b[0;32m   2100\u001b[0m         \u001b[1;34m\"Delegate attribute access to the interpreter object\"\u001b[0m\u001b[1;33m\u001b[0m\u001b[1;33m\u001b[0m\u001b[0m\n\u001b[1;32m-> 2101\u001b[1;33m         \u001b[1;32mreturn\u001b[0m \u001b[0mgetattr\u001b[0m\u001b[1;33m(\u001b[0m\u001b[0mself\u001b[0m\u001b[1;33m.\u001b[0m\u001b[0mtk\u001b[0m\u001b[1;33m,\u001b[0m \u001b[0mattr\u001b[0m\u001b[1;33m)\u001b[0m\u001b[1;33m\u001b[0m\u001b[1;33m\u001b[0m\u001b[0m\n\u001b[0m\u001b[0;32m   2102\u001b[0m \u001b[1;33m\u001b[0m\u001b[0m\n\u001b[0;32m   2103\u001b[0m \u001b[1;31m# Ideally, the classes Pack, Place and Grid disappear, the\u001b[0m\u001b[1;33m\u001b[0m\u001b[1;33m\u001b[0m\u001b[1;33m\u001b[0m\u001b[0m\n",
      "\u001b[1;31mAttributeError\u001b[0m: '_tkinter.tkapp' object has no attribute 'outfolder'"
     ]
    }
   ],
   "source": [
    "outfolder=root.outfolder\n",
    "if os.path.exists(outfolder):\n",
    "    outfolder=outfolder+\"\\{}.{}\"\n",
    "else:\n",
    "    os.mkdir(root.outfolder)\n",
    "    outfolder=outfolder+\"\\{}.{}\"\n",
    "filename=os.path.basename(root.stop_summary)\n",
    "filename=os.path.splitext(filename)[0]\n",
    "filename=root.city_choice+\"_\"+filename"
   ]
  },
  {
   "cell_type": "code",
   "execution_count": null,
   "metadata": {},
   "outputs": [],
   "source": [
    "stop_sum=pd.read_excel(root.stop_summary,dtype={'TRIP_TIME':str,'STOP_ID':str,'SCHEDULED_TIME':str})\n",
    "stop_sum['ROUTE']=stop_sum['ROUTE'].astype(str)\n",
    "stop_sum['ROUTE'].replace({'71':'7A','72':'7B','80':'8x'},inplace=True)"
   ]
  },
  {
   "cell_type": "code",
   "execution_count": null,
   "metadata": {},
   "outputs": [],
   "source": [
    "stop_sum['geometry']=[Point(xy) for xy in zip(stop_sum.GTFS_LONG,stop_sum.GTFS_LAT)]\n",
    "stop_sum=gpd.GeoDataFrame(stop_sum,geometry='geometry',crs=crs)"
   ]
  },
  {
   "cell_type": "code",
   "execution_count": null,
   "metadata": {},
   "outputs": [],
   "source": [
    "stop_sum_cities=gpd.sjoin(stop_sum,jurisdictions,how='left')"
   ]
  },
  {
   "cell_type": "code",
   "execution_count": null,
   "metadata": {},
   "outputs": [],
   "source": [
    "if root.city_choice!='All':\n",
    "    city_stops=stop_sum_cities.loc[stop_sum_cities['NAMELSAD']==root.city_choice]\n",
    "    city_stops=city_stops[['ROUTE','STOP_ID','STOPNAME','ON','OFF','geometry']]\n",
    "else:\n",
    "    city_stops=stop_sum_cities.copy()\n",
    "    city_stops=city_stops[['ROUTE','STOP_ID','STOPNAME','ON','OFF','geometry']]"
   ]
  },
  {
   "cell_type": "code",
   "execution_count": null,
   "metadata": {
    "scrolled": true
   },
   "outputs": [],
   "source": [
    "city_stops_on=city_stops.copy()\n",
    "city_stops_on['ROUTE']=city_stops_on['ROUTE'].astype(str)+\"_on\"\n",
    "city_stops_on=city_stops_on.pivot_table(index=['STOP_ID'],columns='ROUTE',values='ON',aggfunc='sum')\n",
    "city_stops_on.reset_index(inplace=True)\n",
    "city_stops_on=city_stops_on.merge(city_stops,how='left')\n",
    "city_stops_on=gpd.GeoDataFrame(city_stops_on,geometry='geometry',crs=crs)\n",
    "city_stops_on=city_stops_on.dissolve(['STOP_ID','STOPNAME'],aggfunc='mean',as_index=False)\n",
    "city_stops_on.drop(['ON','OFF','geometry'],axis=1,inplace=True)"
   ]
  },
  {
   "cell_type": "code",
   "execution_count": null,
   "metadata": {
    "scrolled": true
   },
   "outputs": [],
   "source": [
    "city_stops_off=city_stops.copy()\n",
    "city_stops_off['ROUTE']=city_stops_off['ROUTE'].astype(str)+\"_off\"\n",
    "city_stops_off=city_stops_off.pivot_table(index=['STOP_ID'],columns='ROUTE',values='OFF',aggfunc='sum')\n",
    "city_stops_off.reset_index(inplace=True)\n",
    "city_stops_off=city_stops_off.merge(city_stops,how='left')\n",
    "city_stops_off=gpd.GeoDataFrame(city_stops_off,geometry='geometry',crs=crs)\n",
    "city_stops_off=city_stops_off.dissolve(['STOP_ID','STOPNAME'],aggfunc='mean',as_index=False)\n",
    "city_stops_off.drop(['ON','OFF','geometry'],axis=1,inplace=True)\n",
    "# city_stops_off=gpd.GeoDataFrame(city_stops_off,geometry='geometry',crs=crs)"
   ]
  },
  {
   "cell_type": "code",
   "execution_count": null,
   "metadata": {
    "scrolled": true
   },
   "outputs": [],
   "source": [
    "city_stops2=city_stops_on.merge(city_stops_off)\n",
    "city_stops2=city_stops2.merge(city_stops,how='left',left_on='STOP_ID',right_on='STOP_ID')\n",
    "city_stops2=gpd.GeoDataFrame(city_stops2,geometry='geometry',crs=crs)\n",
    "city_stops2.drop(['STOPNAME_y','ROUTE','ON','OFF'],axis=1,inplace=True)\n",
    "city_stops2.rename(columns={'STOPNAME_x':'STOPNAME'},inplace=True)\n",
    "city_stops2=city_stops2.dissolve(by='STOP_ID',aggfunc='first',as_index=False)\n",
    "city_stops2=city_stops2.loc[city_stops2.geometry.geom_type=='Point']"
   ]
  },
  {
   "cell_type": "code",
   "execution_count": null,
   "metadata": {
    "scrolled": true
   },
   "outputs": [],
   "source": [
    "city_stops2.to_file(outfolder.format((filename),\".shp\"))"
   ]
  },
  {
   "cell_type": "code",
   "execution_count": null,
   "metadata": {},
   "outputs": [],
   "source": [
    "city_stops2.drop('geometry',axis=1,inplace=True)\n",
    "city_stops2.to_excel(outfolder.format((filename),\".xlsx\"),index=False)"
   ]
  },
  {
   "cell_type": "code",
   "execution_count": null,
   "metadata": {},
   "outputs": [],
   "source": []
  }
 ],
 "metadata": {
  "kernelspec": {
   "display_name": "Python 3",
   "language": "python",
   "name": "python3"
  },
  "language_info": {
   "codemirror_mode": {
    "name": "ipython",
    "version": 3
   },
   "file_extension": ".py",
   "mimetype": "text/x-python",
   "name": "python",
   "nbconvert_exporter": "python",
   "pygments_lexer": "ipython3",
   "version": "3.7.1"
  }
 },
 "nbformat": 4,
 "nbformat_minor": 2
}
