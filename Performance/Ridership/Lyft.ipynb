{
 "cells": [
  {
   "cell_type": "code",
   "execution_count": 1,
   "metadata": {},
   "outputs": [],
   "source": [
    "import pandas as pd\n",
    "import numpy as np\n",
    "import requests, zipfile, io, os, re\n",
    "import tkinter as tk\n",
    "import geopandas as gpd\n",
    "import datetime as dt\n",
    "from shapely.geometry import Point, LineString\n",
    "from tkinter import filedialog\n",
    "%matplotlib inline"
   ]
  },
  {
   "cell_type": "code",
   "execution_count": 2,
   "metadata": {},
   "outputs": [
    {
     "data": {
      "text/plain": [
       "[2019]"
      ]
     },
     "execution_count": 2,
     "metadata": {},
     "output_type": "execute_result"
    }
   ],
   "source": [
    "months=list(range(1,13))\n",
    "years=list(range(2019,(dt.datetime.now().year)+1))"
   ]
  },
  {
   "cell_type": "code",
   "execution_count": 3,
   "metadata": {},
   "outputs": [],
   "source": [
    "def button_infolder_clicked():\n",
    "    root.infolder=filedialog.askdirectory(initialdir=\"/\",title=\"Select Input folder\")\n",
    "def button_outfolder_clicked():\n",
    "    root.outfolder=filedialog.askdirectory(initialdir=\"/\",title=\"Select Output folder\")\n",
    "def close_window():\n",
    "    root.start_month=tkvar_start_month.get()\n",
    "    root.start_year=tkvar_start_year.get()\n",
    "    root.end_month=tkvar_end_month.get()\n",
    "    root.end_year=tkvar_end_year.get()\n",
    "    root.destroy()\n",
    "\n",
    "root=tk.Tk()\n",
    "root.title('Emerging Mobility')\n",
    "# root.geometry('350x200')\n",
    "\n",
    "tkvar_start_month=tk.StringVar(root)\n",
    "tkvar_start_year=tk.StringVar(root)\n",
    "tkvar_end_month=tk.StringVar(root)\n",
    "tkvar_end_year=tk.StringVar(root)\n",
    "\n",
    "label_in=tk.Label(root,text='Select Folder').grid(column=0,row=0)\n",
    "button_in=tk.Button(root,text=\"Browse\",command=button_infolder_clicked).grid(column=1,row=0)\n",
    "\n",
    "label_out=tk.Label(root,text=\"Select an output folder\").grid(column=0,row=1)\n",
    "button_out=tk.Button(root,text=\"Browse\",command=button_outfolder_clicked).grid(column=1,row=1)\n",
    "\n",
    "start_month_label=tk.Label(root,text=\"Select start month\").grid(column=0,row=2)\n",
    "start_month_choice=tk.OptionMenu(root,tkvar_start_month,*months).grid(column=1,row=2)\n",
    "\n",
    "start_year_label=tk.Label(root,text=\"Select start year\").grid(column=0,row=3)\n",
    "start_year_choice=tk.OptionMenu(root,tkvar_start_year,*years).grid(column=1,row=3)\n",
    "\n",
    "end_month_label=tk.Label(root,text=\"Select end month\").grid(column=0,row=4)\n",
    "end_month_choice=tk.OptionMenu(root,tkvar_end_month,*months).grid(column=1,row=4)\n",
    "\n",
    "end_year_label=tk.Label(root,text=\"Select end year\").grid(column=0,row=5)\n",
    "year_choice=tk.OptionMenu(root,tkvar_end_year,*years).grid(column=1,row=5)\n",
    "\n",
    "button_run=tk.Button(root,text='Run',width=25,command=close_window).grid(column=0,row=6)\n",
    "root.mainloop()"
   ]
  },
  {
   "cell_type": "code",
   "execution_count": 4,
   "metadata": {},
   "outputs": [],
   "source": [
    "start_month=dt.date(int(root.start_year),int(root.start_month),1)\n",
    "start_month=start_month.strftime(\"%Y-%m-%d\")\n",
    "end_month=dt.date(int(root.end_year),int(root.end_month),1)\n",
    "end_month=end_month.strftime(\"%Y-%m-%d\")"
   ]
  },
  {
   "cell_type": "code",
   "execution_count": 5,
   "metadata": {},
   "outputs": [],
   "source": [
    "save_file=root.outfolder\n",
    "save_file=save_file+r\"/{}.shp\""
   ]
  },
  {
   "cell_type": "code",
   "execution_count": 6,
   "metadata": {},
   "outputs": [],
   "source": [
    "idaho='16'\n",
    "ada_county='001'\n",
    "canyon_county='027'\n",
    "tracts_url=r\"https://www2.census.gov/geo/tiger/TIGER2018/TRACT/tl_2018_16_tract.zip\""
   ]
  },
  {
   "cell_type": "code",
   "execution_count": 7,
   "metadata": {},
   "outputs": [],
   "source": [
    "def readOnlineShapefile(url):\n",
    "    zip_file_url=url\n",
    "    r=requests.get(zip_file_url)\n",
    "    z=zipfile.ZipFile(io.BytesIO(r.content))\n",
    "    z.extractall(\"x\")\n",
    "    return gpd.read_file(\"x\")\n",
    "tracts=readOnlineShapefile(tracts_url)"
   ]
  },
  {
   "cell_type": "code",
   "execution_count": 8,
   "metadata": {},
   "outputs": [],
   "source": [
    "def getVRTServiceArea(url):\n",
    "    gdf=readOnlineShapefile(url)\n",
    "    gdf=gdf.loc[(gdf['COUNTYFP']==ada_county)|(gdf['COUNTYFP']==canyon_county)]\n",
    "    return gdf\n",
    "tracts=getVRTServiceArea(tracts_url)"
   ]
  },
  {
   "cell_type": "code",
   "execution_count": 9,
   "metadata": {},
   "outputs": [],
   "source": [
    "FMLM_Folder=r\"N:\\Planning - New File Structure\\GIS\\Data\\EmergingMobility\\FMLM\"\n",
    "NiteRide_Folder=r\"N:\\Planning - New File Structure\\GIS\\Data\\EmergingMobility\\NiteRide\""
   ]
  },
  {
   "cell_type": "code",
   "execution_count": 10,
   "metadata": {
    "scrolled": true
   },
   "outputs": [
    {
     "name": "stderr",
     "output_type": "stream",
     "text": [
      "c:\\users\\bparker\\appdata\\local\\conda\\conda\\envs\\py3\\lib\\site-packages\\geopandas\\io\\file.py:108: FionaDeprecationWarning: Use fiona.Env() instead.\n",
      "  with fiona.drivers():\n"
     ]
    },
    {
     "data": {
      "text/html": [
       "<div>\n",
       "<style scoped>\n",
       "    .dataframe tbody tr th:only-of-type {\n",
       "        vertical-align: middle;\n",
       "    }\n",
       "\n",
       "    .dataframe tbody tr th {\n",
       "        vertical-align: top;\n",
       "    }\n",
       "\n",
       "    .dataframe thead th {\n",
       "        text-align: right;\n",
       "    }\n",
       "</style>\n",
       "<table border=\"1\" class=\"dataframe\">\n",
       "  <thead>\n",
       "    <tr style=\"text-align: right;\">\n",
       "      <th></th>\n",
       "      <th>Origin</th>\n",
       "      <th>Destination</th>\n",
       "      <th>Trip Time Period_orig</th>\n",
       "      <th>trips</th>\n",
       "      <th>center</th>\n",
       "    </tr>\n",
       "  </thead>\n",
       "  <tbody>\n",
       "    <tr>\n",
       "      <th>0</th>\n",
       "      <td>16001000100</td>\n",
       "      <td>16001000100</td>\n",
       "      <td>LATE NIGHT</td>\n",
       "      <td>13</td>\n",
       "      <td>POINT (-116.2076388146843 43.61625963257963)</td>\n",
       "    </tr>\n",
       "    <tr>\n",
       "      <th>1</th>\n",
       "      <td>16001000100</td>\n",
       "      <td>16001000100</td>\n",
       "      <td>PM PEAK</td>\n",
       "      <td>2</td>\n",
       "      <td>POINT (-116.2076388146843 43.61625963257963)</td>\n",
       "    </tr>\n",
       "  </tbody>\n",
       "</table>\n",
       "</div>"
      ],
      "text/plain": [
       "        Origin  Destination Trip Time Period_orig  trips  \\\n",
       "0  16001000100  16001000100            LATE NIGHT     13   \n",
       "1  16001000100  16001000100               PM PEAK      2   \n",
       "\n",
       "                                         center  \n",
       "0  POINT (-116.2076388146843 43.61625963257963)  \n",
       "1  POINT (-116.2076388146843 43.61625963257963)  "
      ]
     },
     "execution_count": 10,
     "metadata": {},
     "output_type": "execute_result"
    }
   ],
   "source": [
    "def mobilityReader(folder,start_month,end_month,save_file=None,output_type='line'):\n",
    "    save_name=os.path.basename(folder)+\"_\"+start_month[:7]+\"_\"+end_month[:7]+\"_\"+output_type\n",
    "    df=pd.DataFrame()\n",
    "    for i in os.listdir(folder):\n",
    "        df=df.append(pd.read_excel(folder+\"\\\\\"+i,dtype={\"Origin (Census Tract)\":str,\"Destination (Census Tract)\":str},sheet_name='Invoice'))\n",
    "    df=df.loc[(df['Month/Year']>=start_month)&(df['Month/Year']<=end_month)]\n",
    "    \n",
    "    tracts['center']=tracts['geometry'].centroid\n",
    "    tracts['lon']=tracts.center.apply(lambda p: p.x)\n",
    "    tracts['lat']=tracts.center.apply(lambda p: p.y)\n",
    "    df_origins=df.merge(tracts,left_on=\"Origin (Census Tract)\",right_on='GEOID')\n",
    "    df_origins.drop(['center','geometry'],axis=1,inplace=True)\n",
    "    df_dests=df.merge(tracts,left_on=\"Destination (Census Tract)\",right_on=\"GEOID\")\n",
    "    df_dests.drop(['center','geometry'],axis=1,inplace=True)\n",
    "    df=df_origins.join(df_dests,lsuffix='_orig',rsuffix='_dest')\n",
    "    \n",
    "    df['orig_coord']=[Point(xy) for xy in zip(df.lon_orig,df.lat_orig)]\n",
    "    df['dest_coord']=[Point(xy)for xy in zip(df.lon_dest,df.lat_dest)]\n",
    "    \n",
    "    df=df[['Passenger ID_orig','Day of Travel_orig','Dispatch Method_orig','Coupon Name_orig',\"Origin (Census Tract)_orig\",\"Destination (Census Tract)_dest\",'Trip Time Period_orig','Trip Length_orig','Trip Duration_orig','Trip Cost_orig','Trip Refund_orig','Trip Subsidy_orig','lon_orig','lat_orig','lon_dest','lat_dest','orig_coord','dest_coord']]\n",
    "    df['line']=[LineString(xy) for xy in zip(df.orig_coord,df.dest_coord)]\n",
    "    df['trips']=1\n",
    "    \n",
    "    gdf=gpd.GeoDataFrame(df,geometry='line',crs={'init':'epsg:4326'})\n",
    "    gdf.drop(['orig_coord','dest_coord','lon_orig','lat_orig','lon_dest','lat_dest'],axis=1,inplace=True)\n",
    "    gdf.rename(columns={\"Origin (Census Tract)_orig\":'Origin',\"Destination (Census Tract)_dest\":'Destination'},inplace=True)\n",
    "    \n",
    "    gdf2=gdf[['Origin','Destination','Trip Time Period_orig','line','trips']]\n",
    "    gdf2=gdf2.dissolve(['Origin','Destination','Trip Time Period_orig'],aggfunc='sum')\n",
    "    gdf2.reset_index(inplace=True)\n",
    "    \n",
    "    gdf_point=gdf2.loc[gdf2['Origin']==gdf2['Destination']]\n",
    "    gdf_point=gdf_point.merge(tracts,left_on='Origin',right_on='GEOID')\n",
    "    gdf_point=gpd.GeoDataFrame(gdf_point,geometry='center',crs={'init':'epsg:4326'})\n",
    "    \n",
    "    gdf_line=gdf2.loc[gdf2['Origin']!=gdf2['Destination']]\n",
    "    gdf_point=gdf_point[['Origin','Destination','Trip Time Period_orig','trips','center']]\n",
    "    gdf_line=gdf_line[['Origin','Destination','Trip Time Period_orig','trips','line']]\n",
    "    if output_type=='line':\n",
    "        if save_file:\n",
    "            gdf_line.to_file(save_file.format(save_name))\n",
    "        return gdf_line\n",
    "    if output_type=='point':\n",
    "        if save_file:\n",
    "            gdf_point.to_file(save_file.format(save_name),SHPT='POINT')\n",
    "        return gdf_point\n",
    "mobilityReader(root.infolder,start_month=start_month,end_month=end_month,output_type='line',save_file=save_file)\n",
    "mobilityReader(root.infolder,start_month=start_month,end_month=end_month,output_type='point',save_file=save_file)"
   ]
  },
  {
   "cell_type": "code",
   "execution_count": null,
   "metadata": {},
   "outputs": [],
   "source": []
  }
 ],
 "metadata": {
  "kernelspec": {
   "display_name": "Python 3",
   "language": "python",
   "name": "python3"
  },
  "language_info": {
   "codemirror_mode": {
    "name": "ipython",
    "version": 3
   },
   "file_extension": ".py",
   "mimetype": "text/x-python",
   "name": "python",
   "nbconvert_exporter": "python",
   "pygments_lexer": "ipython3",
   "version": "3.7.1"
  }
 },
 "nbformat": 4,
 "nbformat_minor": 2
}
