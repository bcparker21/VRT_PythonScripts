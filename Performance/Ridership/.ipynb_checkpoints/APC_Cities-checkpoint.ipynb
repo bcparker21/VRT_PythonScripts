{
 "cells": [
  {
   "cell_type": "code",
   "execution_count": 1,
   "metadata": {},
   "outputs": [],
   "source": [
    "import pandas as pd\n",
    "import gtfstk as gt\n",
    "import geopandas as gpd\n",
    "import datetime as dt\n",
    "import numpy as np\n",
    "import tkinter as tk\n",
    "import os\n",
    "from tkinter import filedialog\n",
    "from shapely.geometry import Point\n",
    "%matplotlib inline"
   ]
  },
  {
   "cell_type": "code",
   "execution_count": 2,
   "metadata": {},
   "outputs": [],
   "source": [
    "crs={'init':'epsg:4326'} # WGS84 projection\n",
    "buffer_distance=.125\n",
    "one_deg_lat=69.05397727272727 # miles\n",
    "one_deg_lon=48.99318181818182 # miles\n",
    "conversion_deg=(np.mean([one_deg_lat,one_deg_lon]))\n",
    "buffer_distance_deg=buffer_distance/conversion_deg"
   ]
  },
  {
   "cell_type": "code",
   "execution_count": 3,
   "metadata": {},
   "outputs": [
    {
     "data": {
      "text/plain": [
       "dict_values(['Unincorporated Ada County', 'Unincorporated Canyon County', 'Starcanyon', 'Middleton', 'Nampa', 'Caldwell', 'Garden City', 'Boise', 'Meridian', 'Star', 'Eagle', 'Kuna'])"
      ]
     },
     "execution_count": 3,
     "metadata": {},
     "output_type": "execute_result"
    }
   ],
   "source": [
    "stops_cities=gpd.read_file(r\"N:\\Planning - New File Structure\\GIS\\Data\\Political\\Boundaries\\CityLimits\\AllJurisdictions.shp\")\n",
    "stops_cities=stops_cities.to_crs(crs)\n",
    "stops_cities=stops_cities[['geometry','CityNm']]\n",
    "stops_cities['CityNm']=stops_cities['CityNm'].str.title()\n",
    "cityNamesArray=stops_cities.CityNm.unique()\n",
    "cityNames={i:cityNamesArray[i] for i in range(len(stops_cities.CityNm.unique()))}\n",
    "cityNames=cityNames.values()\n",
    "cityNames"
   ]
  },
  {
   "cell_type": "code",
   "execution_count": null,
   "metadata": {},
   "outputs": [],
   "source": [
    "def button_stop_summary_clicked():\n",
    "    root.stop_summary=filedialog.askopenfilename(initialdir=\"/\",title=\"Select Stop Summary Report\",filetypes = ((\"Excel\",\"*.xlsx\"),(\"all files\",\"*.*\")))\n",
    "def button_outfolder_clicked():\n",
    "    root.outfolder=filedialog.askdirectory(initialdir=\"/\",title=\"Select Output folder\")\n",
    "def button_cities_choices_clicked(*args):\n",
    "    root.city_choice=tkvar.get()\n",
    "def close_window():\n",
    "    root.city_choice=tkvar.get()\n",
    "    root.destroy()\n",
    "\n",
    "root=tk.Tk()\n",
    "root.title('Stops Cities')\n",
    "# root.geometry('350x200')\n",
    "\n",
    "tkvar=tk.StringVar(root)\n",
    "\n",
    "label_stop_summary=tk.Label(root,text='Select Stop Summary Report')\n",
    "label_stop_summary.grid(column=0,row=0)\n",
    "\n",
    "button_stop_summary=tk.Button(root,text=\"Browse\",command=button_stop_summary_clicked)\n",
    "button_stop_summary.grid(column=0,row=1)\n",
    "\n",
    "label_out=tk.Label(root,text=\"Select an output folder\")\n",
    "label_out.grid(column=0,row=2)\n",
    "\n",
    "button_out=tk.Button(root,text=\"Browse\",command=button_outfolder_clicked)\n",
    "button_out.grid(column=0,row=3)\n",
    "\n",
    "city_label=tk.Label(root,text=\"Pick a City\")\n",
    "city_label.grid(column=0,row=4)\n",
    "\n",
    "cities_choices=tk.OptionMenu(root,tkvar,*cityNames)\n",
    "cities_choices.grid(column=0,row=5)\n",
    "\n",
    "button_run=tk.Button(root,text='Run',width=25,command=close_window)\n",
    "button_run.grid(column=0,row=6)\n",
    "root.mainloop()"
   ]
  },
  {
   "cell_type": "code",
   "execution_count": null,
   "metadata": {},
   "outputs": [],
   "source": [
    "outfolder=root.outfolder\n",
    "if os.path.exists(outfolder):\n",
    "    outfolder=outfolder+\"\\{}.{}\"\n",
    "else:\n",
    "    os.mkdir(root.outfolder)\n",
    "    outfolder=outfolder+\"\\{}.{}\"\n",
    "filename=os.path.basename(root.stop_summary)\n",
    "filename=os.path.splitext(filename)[0]\n",
    "filename=root.city_choice+\"_\"+filename"
   ]
  },
  {
   "cell_type": "code",
   "execution_count": null,
   "metadata": {},
   "outputs": [],
   "source": [
    "stop_sum=pd.read_excel(root.stop_summary,dtype={'TRIP_TIME':str,'STOP_ID':str,'SCHEDULED_TIME':str})\n",
    "stop_sum['ROUTE']=stop_sum['ROUTE'].astype(str)\n",
    "stop_sum['ROUTE'].replace({'71':'7A','72':'7B','80':'8x'},inplace=True)"
   ]
  },
  {
   "cell_type": "code",
   "execution_count": null,
   "metadata": {},
   "outputs": [],
   "source": [
    "stop_sum['geometry']=[Point(xy) for xy in zip(stop_sum.GTFS_LONG,stop_sum.GTFS_LAT)]\n",
    "stop_sum=gpd.GeoDataFrame(stop_sum,geometry='geometry',crs=crs)"
   ]
  },
  {
   "cell_type": "code",
   "execution_count": null,
   "metadata": {},
   "outputs": [],
   "source": [
    "stop_sum_cities=gpd.sjoin(stop_sum,stops_cities,how='left')\n",
    "stop_sum_cities.head()"
   ]
  },
  {
   "cell_type": "code",
   "execution_count": null,
   "metadata": {},
   "outputs": [],
   "source": [
    "city_stops=stop_sum_cities.loc[stop_sum_cities['CityNm']==root.city_choice]\n",
    "city_stops=city_stops[['ROUTE','STOP_ID','STOPNAME','ON','OFF','geometry']]\n",
    "city_stops.head()"
   ]
  },
  {
   "cell_type": "code",
   "execution_count": null,
   "metadata": {
    "scrolled": true
   },
   "outputs": [],
   "source": [
    "city_stops_on=city_stops.copy()\n",
    "city_stops_on['ROUTE']=city_stops_on['ROUTE'].astype(str)+\"_on\"\n",
    "city_stops_on=city_stops_on.pivot_table(index=['STOP_ID'],columns='ROUTE',values='ON',aggfunc='sum')\n",
    "city_stops_on.reset_index(inplace=True)\n",
    "city_stops_on=city_stops_on.merge(city_stops,how='left')\n",
    "city_stops_on=gpd.GeoDataFrame(city_stops_on,geometry='geometry',crs=crs)\n",
    "city_stops_on=city_stops_on.dissolve(['STOP_ID','STOPNAME'],aggfunc='mean',as_index=False)\n",
    "city_stops_on.drop(['ON','OFF','geometry'],axis=1,inplace=True)\n",
    "city_stops_on"
   ]
  },
  {
   "cell_type": "code",
   "execution_count": null,
   "metadata": {
    "scrolled": true
   },
   "outputs": [],
   "source": [
    "city_stops_off=city_stops.copy()\n",
    "city_stops_off['ROUTE']=city_stops_off['ROUTE'].astype(str)+\"_off\"\n",
    "city_stops_off=city_stops_off.pivot_table(index=['STOP_ID'],columns='ROUTE',values='OFF',aggfunc='sum')\n",
    "city_stops_off.reset_index(inplace=True)\n",
    "city_stops_off=city_stops_off.merge(city_stops,how='left')\n",
    "city_stops_off=gpd.GeoDataFrame(city_stops_off,geometry='geometry',crs=crs)\n",
    "city_stops_off=city_stops_off.dissolve(['STOP_ID','STOPNAME'],aggfunc='mean',as_index=False)\n",
    "city_stops_off.drop(['ON','OFF','geometry'],axis=1,inplace=True)\n",
    "# city_stops_off=gpd.GeoDataFrame(city_stops_off,geometry='geometry',crs=crs)\n",
    "city_stops_off"
   ]
  },
  {
   "cell_type": "code",
   "execution_count": null,
   "metadata": {
    "scrolled": true
   },
   "outputs": [],
   "source": [
    "city_stops2=city_stops_on.merge(city_stops_off)\n",
    "city_stops2=city_stops2.merge(city_stops,how='left',left_on='STOP_ID',right_on='STOP_ID')\n",
    "city_stops2=gpd.GeoDataFrame(city_stops2,geometry='geometry',crs=crs)\n",
    "city_stops2.drop(['STOPNAME_y','ROUTE','ON','OFF'],axis=1,inplace=True)\n",
    "city_stops2.rename(columns={'STOPNAME_x':'STOPNAME'},inplace=True)\n",
    "city_stops2=city_stops2.dissolve(by='STOP_ID',aggfunc='first',as_index=False)\n",
    "city_stops2=city_stops2.loc[city_stops2.geometry.geom_type=='Point']\n",
    "city_stops2"
   ]
  },
  {
   "cell_type": "code",
   "execution_count": null,
   "metadata": {
    "scrolled": true
   },
   "outputs": [],
   "source": [
    "city_stops2.to_file(outfolder.format((filename),\".shp\"))"
   ]
  },
  {
   "cell_type": "code",
   "execution_count": null,
   "metadata": {},
   "outputs": [],
   "source": [
    "city_stops2.drop('geometry',axis=1,inplace=True)\n",
    "city_stops2.to_excel(outfolder.format((filename),\".xlsx\"),index=False)"
   ]
  },
  {
   "cell_type": "code",
   "execution_count": null,
   "metadata": {},
   "outputs": [],
   "source": []
  }
 ],
 "metadata": {
  "kernelspec": {
   "display_name": "Python 3",
   "language": "python",
   "name": "python3"
  },
  "language_info": {
   "codemirror_mode": {
    "name": "ipython",
    "version": 3
   },
   "file_extension": ".py",
   "mimetype": "text/x-python",
   "name": "python",
   "nbconvert_exporter": "python",
   "pygments_lexer": "ipython3",
   "version": "3.7.1"
  }
 },
 "nbformat": 4,
 "nbformat_minor": 2
}
