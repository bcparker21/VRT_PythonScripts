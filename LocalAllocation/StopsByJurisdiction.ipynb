{
 "cells": [
  {
   "cell_type": "code",
   "execution_count": 1,
   "metadata": {},
   "outputs": [],
   "source": [
    "import pandas as pd\n",
    "import datetime\n",
    "import numpy as np\n",
    "import os, subprocess\n",
    "import geopandas as gpd\n",
    "from shapely.geometry import Point\n",
    "pd.options.display.float_format='{:,.1f}'.format "
   ]
  },
  {
   "cell_type": "code",
   "execution_count": 2,
   "metadata": {},
   "outputs": [],
   "source": [
    "# Get GTFS Directory Location\n",
    "GTFS_Location0=r\"N:\\Planning - New File Structure\\GIS\\Data\\GTFS\\2020_State_Eagle_Ext\"\n",
    "\n",
    "GTFS_Location=GTFS_Location0+\"\\\\\""
   ]
  },
  {
   "cell_type": "code",
   "execution_count": 3,
   "metadata": {},
   "outputs": [
    {
     "data": {
      "text/html": [
       "<div>\n",
       "<style scoped>\n",
       "    .dataframe tbody tr th:only-of-type {\n",
       "        vertical-align: middle;\n",
       "    }\n",
       "\n",
       "    .dataframe tbody tr th {\n",
       "        vertical-align: top;\n",
       "    }\n",
       "\n",
       "    .dataframe thead th {\n",
       "        text-align: right;\n",
       "    }\n",
       "</style>\n",
       "<table border=\"1\" class=\"dataframe\">\n",
       "  <thead>\n",
       "    <tr style=\"text-align: right;\">\n",
       "      <th></th>\n",
       "      <th>stop_id</th>\n",
       "      <th>stop_name</th>\n",
       "      <th>stop_lat</th>\n",
       "      <th>stop_lon</th>\n",
       "      <th>Coordinates</th>\n",
       "      <th>index_right</th>\n",
       "      <th>CITY</th>\n",
       "      <th>Acres</th>\n",
       "      <th>OBJECTID</th>\n",
       "      <th>UpdateDate</th>\n",
       "      <th>Shape_Leng</th>\n",
       "      <th>Shape_Area</th>\n",
       "    </tr>\n",
       "  </thead>\n",
       "  <tbody>\n",
       "    <tr>\n",
       "      <th>0</th>\n",
       "      <td>remix_a718d165-cb9f-4fcd-bef4-b66ebc9f7c04</td>\n",
       "      <td>Ballantyne</td>\n",
       "      <td>43.7</td>\n",
       "      <td>-116.4</td>\n",
       "      <td>POINT (-116.382420693864 43.6960804486346)</td>\n",
       "      <td>1</td>\n",
       "      <td>Eagle</td>\n",
       "      <td>19,235.7</td>\n",
       "      <td>0</td>\n",
       "      <td>July 2013</td>\n",
       "      <td>519,387.1</td>\n",
       "      <td>837,903,136.3</td>\n",
       "    </tr>\n",
       "    <tr>\n",
       "      <th>1</th>\n",
       "      <td>remix_bb759065-08dd-4da7-b7ae-b9230fd7dcf3</td>\n",
       "      <td>Untitled Stop</td>\n",
       "      <td>43.7</td>\n",
       "      <td>-116.4</td>\n",
       "      <td>POINT (-116.351710814165 43.6883459586609)</td>\n",
       "      <td>1</td>\n",
       "      <td>Eagle</td>\n",
       "      <td>19,235.7</td>\n",
       "      <td>0</td>\n",
       "      <td>July 2013</td>\n",
       "      <td>519,387.1</td>\n",
       "      <td>837,903,136.3</td>\n",
       "    </tr>\n",
       "    <tr>\n",
       "      <th>2</th>\n",
       "      <td>remix_24ec8090-b01e-4694-9442-5a16b3762f7b</td>\n",
       "      <td>Untitled Stop</td>\n",
       "      <td>43.7</td>\n",
       "      <td>-116.3</td>\n",
       "      <td>POINT (-116.342409847636 43.68846664630671)</td>\n",
       "      <td>1</td>\n",
       "      <td>Eagle</td>\n",
       "      <td>19,235.7</td>\n",
       "      <td>0</td>\n",
       "      <td>July 2013</td>\n",
       "      <td>519,387.1</td>\n",
       "      <td>837,903,136.3</td>\n",
       "    </tr>\n",
       "    <tr>\n",
       "      <th>3</th>\n",
       "      <td>remix_2044d391-cd57-4a10-99b9-dffcefd9124b</td>\n",
       "      <td>Untitled Stop</td>\n",
       "      <td>43.7</td>\n",
       "      <td>-116.3</td>\n",
       "      <td>POINT (-116.336696147919 43.6873091436471)</td>\n",
       "      <td>1</td>\n",
       "      <td>Eagle</td>\n",
       "      <td>19,235.7</td>\n",
       "      <td>0</td>\n",
       "      <td>July 2013</td>\n",
       "      <td>519,387.1</td>\n",
       "      <td>837,903,136.3</td>\n",
       "    </tr>\n",
       "    <tr>\n",
       "      <th>10</th>\n",
       "      <td>01020293</td>\n",
       "      <td>State &amp; Horseshoe Bend</td>\n",
       "      <td>43.7</td>\n",
       "      <td>-116.3</td>\n",
       "      <td>POINT (-116.316704 43.683519)</td>\n",
       "      <td>1</td>\n",
       "      <td>Eagle</td>\n",
       "      <td>19,235.7</td>\n",
       "      <td>0</td>\n",
       "      <td>July 2013</td>\n",
       "      <td>519,387.1</td>\n",
       "      <td>837,903,136.3</td>\n",
       "    </tr>\n",
       "  </tbody>\n",
       "</table>\n",
       "</div>"
      ],
      "text/plain": [
       "                                       stop_id               stop_name  \\\n",
       "0   remix_a718d165-cb9f-4fcd-bef4-b66ebc9f7c04              Ballantyne   \n",
       "1   remix_bb759065-08dd-4da7-b7ae-b9230fd7dcf3           Untitled Stop   \n",
       "2   remix_24ec8090-b01e-4694-9442-5a16b3762f7b           Untitled Stop   \n",
       "3   remix_2044d391-cd57-4a10-99b9-dffcefd9124b           Untitled Stop   \n",
       "10                                    01020293  State & Horseshoe Bend   \n",
       "\n",
       "    stop_lat  stop_lon                                  Coordinates  \\\n",
       "0       43.7    -116.4   POINT (-116.382420693864 43.6960804486346)   \n",
       "1       43.7    -116.4   POINT (-116.351710814165 43.6883459586609)   \n",
       "2       43.7    -116.3  POINT (-116.342409847636 43.68846664630671)   \n",
       "3       43.7    -116.3   POINT (-116.336696147919 43.6873091436471)   \n",
       "10      43.7    -116.3                POINT (-116.316704 43.683519)   \n",
       "\n",
       "    index_right   CITY    Acres  OBJECTID UpdateDate  Shape_Leng    Shape_Area  \n",
       "0             1  Eagle 19,235.7         0  July 2013   519,387.1 837,903,136.3  \n",
       "1             1  Eagle 19,235.7         0  July 2013   519,387.1 837,903,136.3  \n",
       "2             1  Eagle 19,235.7         0  July 2013   519,387.1 837,903,136.3  \n",
       "3             1  Eagle 19,235.7         0  July 2013   519,387.1 837,903,136.3  \n",
       "10            1  Eagle 19,235.7         0  July 2013   519,387.1 837,903,136.3  "
      ]
     },
     "execution_count": 3,
     "metadata": {},
     "output_type": "execute_result"
    }
   ],
   "source": [
    "# Read in data\n",
    "city_limits=gpd.read_file(r\"N:\\Planning - New File Structure\\GIS\\Data\\Political\\Boundaries\\City_Limits.shp\")\n",
    "city_limits=city_limits.to_crs(epsg=4326)\n",
    "stop_times=pd.read_csv(GTFS_Location+'stop_times.txt')\n",
    "stops=pd.read_csv(GTFS_Location+'stops.txt')\n",
    "stops['Coordinates']=list(zip(stops.stop_lon,stops.stop_lat))\n",
    "stops['Coordinates']=stops['Coordinates'].apply(Point)\n",
    "stops_gdf=gpd.GeoDataFrame(stops,crs={'init':'epsg:4326','no_defs':True},geometry='Coordinates')\n",
    "stops_gdf=gpd.sjoin(stops_gdf,city_limits)\n",
    "trips=pd.read_csv(GTFS_Location+'trips.txt')\n",
    "routes=pd.read_csv(GTFS_Location+'routes.txt')\n",
    "calendar=pd.read_csv(GTFS_Location+'calendar.txt')\n",
    "stops_gdf.head()"
   ]
  },
  {
   "cell_type": "code",
   "execution_count": 4,
   "metadata": {},
   "outputs": [
    {
     "data": {
      "text/plain": [
       "Index(['trip_id', 'stop_id', 'stop_sequence', 'arrival_time', 'departure_time',\n",
       "       'timepoint', 'stop_name', 'stop_lat', 'stop_lon', 'Coordinates',\n",
       "       'block_id', 'route_id', 'service_id', 'direction_id', 'shape_id',\n",
       "       'agency_id', 'route_short_name', 'route_long_name', 'route_type',\n",
       "       'route_color', 'route_text_color'],\n",
       "      dtype='object')"
      ]
     },
     "execution_count": 4,
     "metadata": {},
     "output_type": "execute_result"
    }
   ],
   "source": [
    "# Merge stuff\n",
    "stop_times_stops=pd.merge(stop_times,stops)\n",
    "stop_times_stops_trips=pd.merge(stop_times_stops,trips)\n",
    "full=pd.merge(stop_times_stops_trips, routes)\n",
    "full=gpd.GeoDataFrame(full,crs={'init':'epsg:4326','no_defs':True},geometry='Coordinates')\n",
    "full.columns"
   ]
  },
  {
   "cell_type": "code",
   "execution_count": 5,
   "metadata": {},
   "outputs": [
    {
     "ename": "ValueError",
     "evalue": "cannot join with no level specified and no overlapping names",
     "output_type": "error",
     "traceback": [
      "\u001b[1;31m---------------------------------------------------------------------------\u001b[0m",
      "\u001b[1;31mValueError\u001b[0m                                Traceback (most recent call last)",
      "\u001b[1;32m<ipython-input-5-8c9da61f83b3>\u001b[0m in \u001b[0;36m<module>\u001b[1;34m\u001b[0m\n\u001b[0;32m      1\u001b[0m \u001b[1;31m#Dissolve by route and stop_id\u001b[0m\u001b[1;33m\u001b[0m\u001b[1;33m\u001b[0m\u001b[1;33m\u001b[0m\u001b[0m\n\u001b[1;32m----> 2\u001b[1;33m \u001b[0mstops_routes\u001b[0m\u001b[1;33m=\u001b[0m\u001b[0mfull\u001b[0m\u001b[1;33m.\u001b[0m\u001b[0mdissolve\u001b[0m\u001b[1;33m(\u001b[0m\u001b[0mby\u001b[0m\u001b[1;33m=\u001b[0m\u001b[1;33m[\u001b[0m\u001b[1;34m'stop_id'\u001b[0m\u001b[1;33m,\u001b[0m\u001b[1;34m'route_short_name'\u001b[0m\u001b[1;33m]\u001b[0m\u001b[1;33m)\u001b[0m\u001b[1;33m\u001b[0m\u001b[1;33m\u001b[0m\u001b[0m\n\u001b[0m\u001b[0;32m      3\u001b[0m \u001b[0mstops_routes\u001b[0m\u001b[1;33m.\u001b[0m\u001b[0mhead\u001b[0m\u001b[1;33m(\u001b[0m\u001b[1;33m)\u001b[0m\u001b[1;33m\u001b[0m\u001b[1;33m\u001b[0m\u001b[0m\n",
      "\u001b[1;32mc:\\users\\bparker\\appdata\\local\\conda\\conda\\envs\\py3\\lib\\site-packages\\geopandas\\geodataframe.py\u001b[0m in \u001b[0;36mdissolve\u001b[1;34m(self, by, aggfunc, as_index)\u001b[0m\n\u001b[0;32m    576\u001b[0m         \u001b[0maggregated_geometry\u001b[0m \u001b[1;33m=\u001b[0m \u001b[0mGeoDataFrame\u001b[0m\u001b[1;33m(\u001b[0m\u001b[0mg\u001b[0m\u001b[1;33m,\u001b[0m \u001b[0mgeometry\u001b[0m\u001b[1;33m=\u001b[0m\u001b[0mself\u001b[0m\u001b[1;33m.\u001b[0m\u001b[0mgeometry\u001b[0m\u001b[1;33m.\u001b[0m\u001b[0mname\u001b[0m\u001b[1;33m,\u001b[0m \u001b[0mcrs\u001b[0m\u001b[1;33m=\u001b[0m\u001b[0mself\u001b[0m\u001b[1;33m.\u001b[0m\u001b[0mcrs\u001b[0m\u001b[1;33m)\u001b[0m\u001b[1;33m\u001b[0m\u001b[1;33m\u001b[0m\u001b[0m\n\u001b[0;32m    577\u001b[0m         \u001b[1;31m# Recombine\u001b[0m\u001b[1;33m\u001b[0m\u001b[1;33m\u001b[0m\u001b[1;33m\u001b[0m\u001b[0m\n\u001b[1;32m--> 578\u001b[1;33m         \u001b[0maggregated\u001b[0m \u001b[1;33m=\u001b[0m \u001b[0maggregated_geometry\u001b[0m\u001b[1;33m.\u001b[0m\u001b[0mjoin\u001b[0m\u001b[1;33m(\u001b[0m\u001b[0maggregated_data\u001b[0m\u001b[1;33m)\u001b[0m\u001b[1;33m\u001b[0m\u001b[1;33m\u001b[0m\u001b[0m\n\u001b[0m\u001b[0;32m    579\u001b[0m \u001b[1;33m\u001b[0m\u001b[0m\n\u001b[0;32m    580\u001b[0m         \u001b[1;31m# Reset if requested\u001b[0m\u001b[1;33m\u001b[0m\u001b[1;33m\u001b[0m\u001b[1;33m\u001b[0m\u001b[0m\n",
      "\u001b[1;32mc:\\users\\bparker\\appdata\\local\\conda\\conda\\envs\\py3\\lib\\site-packages\\pandas\\core\\frame.py\u001b[0m in \u001b[0;36mjoin\u001b[1;34m(self, other, on, how, lsuffix, rsuffix, sort)\u001b[0m\n\u001b[0;32m   6334\u001b[0m         \u001b[1;31m# For SparseDataFrame's benefit\u001b[0m\u001b[1;33m\u001b[0m\u001b[1;33m\u001b[0m\u001b[1;33m\u001b[0m\u001b[0m\n\u001b[0;32m   6335\u001b[0m         return self._join_compat(other, on=on, how=how, lsuffix=lsuffix,\n\u001b[1;32m-> 6336\u001b[1;33m                                  rsuffix=rsuffix, sort=sort)\n\u001b[0m\u001b[0;32m   6337\u001b[0m \u001b[1;33m\u001b[0m\u001b[0m\n\u001b[0;32m   6338\u001b[0m     def _join_compat(self, other, on=None, how='left', lsuffix='', rsuffix='',\n",
      "\u001b[1;32mc:\\users\\bparker\\appdata\\local\\conda\\conda\\envs\\py3\\lib\\site-packages\\pandas\\core\\frame.py\u001b[0m in \u001b[0;36m_join_compat\u001b[1;34m(self, other, on, how, lsuffix, rsuffix, sort)\u001b[0m\n\u001b[0;32m   6349\u001b[0m             return merge(self, other, left_on=on, how=how,\n\u001b[0;32m   6350\u001b[0m                          \u001b[0mleft_index\u001b[0m\u001b[1;33m=\u001b[0m\u001b[0mon\u001b[0m \u001b[1;32mis\u001b[0m \u001b[1;32mNone\u001b[0m\u001b[1;33m,\u001b[0m \u001b[0mright_index\u001b[0m\u001b[1;33m=\u001b[0m\u001b[1;32mTrue\u001b[0m\u001b[1;33m,\u001b[0m\u001b[1;33m\u001b[0m\u001b[1;33m\u001b[0m\u001b[0m\n\u001b[1;32m-> 6351\u001b[1;33m                          suffixes=(lsuffix, rsuffix), sort=sort)\n\u001b[0m\u001b[0;32m   6352\u001b[0m         \u001b[1;32melse\u001b[0m\u001b[1;33m:\u001b[0m\u001b[1;33m\u001b[0m\u001b[1;33m\u001b[0m\u001b[0m\n\u001b[0;32m   6353\u001b[0m             \u001b[1;32mif\u001b[0m \u001b[0mon\u001b[0m \u001b[1;32mis\u001b[0m \u001b[1;32mnot\u001b[0m \u001b[1;32mNone\u001b[0m\u001b[1;33m:\u001b[0m\u001b[1;33m\u001b[0m\u001b[1;33m\u001b[0m\u001b[0m\n",
      "\u001b[1;32mc:\\users\\bparker\\appdata\\local\\conda\\conda\\envs\\py3\\lib\\site-packages\\pandas\\core\\reshape\\merge.py\u001b[0m in \u001b[0;36mmerge\u001b[1;34m(left, right, how, on, left_on, right_on, left_index, right_index, sort, suffixes, copy, indicator, validate)\u001b[0m\n\u001b[0;32m     60\u001b[0m                          \u001b[0mcopy\u001b[0m\u001b[1;33m=\u001b[0m\u001b[0mcopy\u001b[0m\u001b[1;33m,\u001b[0m \u001b[0mindicator\u001b[0m\u001b[1;33m=\u001b[0m\u001b[0mindicator\u001b[0m\u001b[1;33m,\u001b[0m\u001b[1;33m\u001b[0m\u001b[1;33m\u001b[0m\u001b[0m\n\u001b[0;32m     61\u001b[0m                          validate=validate)\n\u001b[1;32m---> 62\u001b[1;33m     \u001b[1;32mreturn\u001b[0m \u001b[0mop\u001b[0m\u001b[1;33m.\u001b[0m\u001b[0mget_result\u001b[0m\u001b[1;33m(\u001b[0m\u001b[1;33m)\u001b[0m\u001b[1;33m\u001b[0m\u001b[1;33m\u001b[0m\u001b[0m\n\u001b[0m\u001b[0;32m     63\u001b[0m \u001b[1;33m\u001b[0m\u001b[0m\n\u001b[0;32m     64\u001b[0m \u001b[1;33m\u001b[0m\u001b[0m\n",
      "\u001b[1;32mc:\\users\\bparker\\appdata\\local\\conda\\conda\\envs\\py3\\lib\\site-packages\\pandas\\core\\reshape\\merge.py\u001b[0m in \u001b[0;36mget_result\u001b[1;34m(self)\u001b[0m\n\u001b[0;32m    566\u001b[0m                 self.left, self.right)\n\u001b[0;32m    567\u001b[0m \u001b[1;33m\u001b[0m\u001b[0m\n\u001b[1;32m--> 568\u001b[1;33m         \u001b[0mjoin_index\u001b[0m\u001b[1;33m,\u001b[0m \u001b[0mleft_indexer\u001b[0m\u001b[1;33m,\u001b[0m \u001b[0mright_indexer\u001b[0m \u001b[1;33m=\u001b[0m \u001b[0mself\u001b[0m\u001b[1;33m.\u001b[0m\u001b[0m_get_join_info\u001b[0m\u001b[1;33m(\u001b[0m\u001b[1;33m)\u001b[0m\u001b[1;33m\u001b[0m\u001b[1;33m\u001b[0m\u001b[0m\n\u001b[0m\u001b[0;32m    569\u001b[0m \u001b[1;33m\u001b[0m\u001b[0m\n\u001b[0;32m    570\u001b[0m         \u001b[0mldata\u001b[0m\u001b[1;33m,\u001b[0m \u001b[0mrdata\u001b[0m \u001b[1;33m=\u001b[0m \u001b[0mself\u001b[0m\u001b[1;33m.\u001b[0m\u001b[0mleft\u001b[0m\u001b[1;33m.\u001b[0m\u001b[0m_data\u001b[0m\u001b[1;33m,\u001b[0m \u001b[0mself\u001b[0m\u001b[1;33m.\u001b[0m\u001b[0mright\u001b[0m\u001b[1;33m.\u001b[0m\u001b[0m_data\u001b[0m\u001b[1;33m\u001b[0m\u001b[1;33m\u001b[0m\u001b[0m\n",
      "\u001b[1;32mc:\\users\\bparker\\appdata\\local\\conda\\conda\\envs\\py3\\lib\\site-packages\\pandas\\core\\reshape\\merge.py\u001b[0m in \u001b[0;36m_get_join_info\u001b[1;34m(self)\u001b[0m\n\u001b[0;32m    763\u001b[0m             \u001b[0mjoin_index\u001b[0m\u001b[1;33m,\u001b[0m \u001b[0mleft_indexer\u001b[0m\u001b[1;33m,\u001b[0m \u001b[0mright_indexer\u001b[0m \u001b[1;33m=\u001b[0m\u001b[0;31m \u001b[0m\u001b[0;31m\\\u001b[0m\u001b[1;33m\u001b[0m\u001b[1;33m\u001b[0m\u001b[0m\n\u001b[0;32m    764\u001b[0m                 left_ax.join(right_ax, how=self.how, return_indexers=True,\n\u001b[1;32m--> 765\u001b[1;33m                              sort=self.sort)\n\u001b[0m\u001b[0;32m    766\u001b[0m         \u001b[1;32melif\u001b[0m \u001b[0mself\u001b[0m\u001b[1;33m.\u001b[0m\u001b[0mright_index\u001b[0m \u001b[1;32mand\u001b[0m \u001b[0mself\u001b[0m\u001b[1;33m.\u001b[0m\u001b[0mhow\u001b[0m \u001b[1;33m==\u001b[0m \u001b[1;34m'left'\u001b[0m\u001b[1;33m:\u001b[0m\u001b[1;33m\u001b[0m\u001b[1;33m\u001b[0m\u001b[0m\n\u001b[0;32m    767\u001b[0m             \u001b[0mjoin_index\u001b[0m\u001b[1;33m,\u001b[0m \u001b[0mleft_indexer\u001b[0m\u001b[1;33m,\u001b[0m \u001b[0mright_indexer\u001b[0m \u001b[1;33m=\u001b[0m\u001b[0;31m \u001b[0m\u001b[0;31m\\\u001b[0m\u001b[1;33m\u001b[0m\u001b[1;33m\u001b[0m\u001b[0m\n",
      "\u001b[1;32mc:\\users\\bparker\\appdata\\local\\conda\\conda\\envs\\py3\\lib\\site-packages\\pandas\\core\\indexes\\range.py\u001b[0m in \u001b[0;36mjoin\u001b[1;34m(self, other, how, level, return_indexers, sort)\u001b[0m\n\u001b[0;32m    474\u001b[0m \u001b[1;33m\u001b[0m\u001b[0m\n\u001b[0;32m    475\u001b[0m         return super(RangeIndex, self).join(other, how, level, return_indexers,\n\u001b[1;32m--> 476\u001b[1;33m                                             sort)\n\u001b[0m\u001b[0;32m    477\u001b[0m \u001b[1;33m\u001b[0m\u001b[0m\n\u001b[0;32m    478\u001b[0m     \u001b[1;32mdef\u001b[0m \u001b[0m_concat_same_dtype\u001b[0m\u001b[1;33m(\u001b[0m\u001b[0mself\u001b[0m\u001b[1;33m,\u001b[0m \u001b[0mindexes\u001b[0m\u001b[1;33m,\u001b[0m \u001b[0mname\u001b[0m\u001b[1;33m)\u001b[0m\u001b[1;33m:\u001b[0m\u001b[1;33m\u001b[0m\u001b[1;33m\u001b[0m\u001b[0m\n",
      "\u001b[1;32mc:\\users\\bparker\\appdata\\local\\conda\\conda\\envs\\py3\\lib\\site-packages\\pandas\\core\\indexes\\base.py\u001b[0m in \u001b[0;36mjoin\u001b[1;34m(self, other, how, level, return_indexers, sort)\u001b[0m\n\u001b[0;32m   3733\u001b[0m             \u001b[1;32melse\u001b[0m\u001b[1;33m:\u001b[0m\u001b[1;33m\u001b[0m\u001b[1;33m\u001b[0m\u001b[0m\n\u001b[0;32m   3734\u001b[0m                 return self._join_multi(other, how=how,\n\u001b[1;32m-> 3735\u001b[1;33m                                         return_indexers=return_indexers)\n\u001b[0m\u001b[0;32m   3736\u001b[0m \u001b[1;33m\u001b[0m\u001b[0m\n\u001b[0;32m   3737\u001b[0m         \u001b[1;31m# join on the level\u001b[0m\u001b[1;33m\u001b[0m\u001b[1;33m\u001b[0m\u001b[1;33m\u001b[0m\u001b[0m\n",
      "\u001b[1;32mc:\\users\\bparker\\appdata\\local\\conda\\conda\\envs\\py3\\lib\\site-packages\\pandas\\core\\indexes\\base.py\u001b[0m in \u001b[0;36m_join_multi\u001b[1;34m(self, other, how, return_indexers)\u001b[0m\n\u001b[0;32m   3828\u001b[0m         \u001b[1;31m# need at least 1 in common, but not more than 1\u001b[0m\u001b[1;33m\u001b[0m\u001b[1;33m\u001b[0m\u001b[1;33m\u001b[0m\u001b[0m\n\u001b[0;32m   3829\u001b[0m         \u001b[1;32mif\u001b[0m \u001b[1;32mnot\u001b[0m \u001b[0mlen\u001b[0m\u001b[1;33m(\u001b[0m\u001b[0moverlap\u001b[0m\u001b[1;33m)\u001b[0m\u001b[1;33m:\u001b[0m\u001b[1;33m\u001b[0m\u001b[1;33m\u001b[0m\u001b[0m\n\u001b[1;32m-> 3830\u001b[1;33m             raise ValueError(\"cannot join with no level specified and no \"\n\u001b[0m\u001b[0;32m   3831\u001b[0m                              \"overlapping names\")\n\u001b[0;32m   3832\u001b[0m         \u001b[1;32mif\u001b[0m \u001b[0mlen\u001b[0m\u001b[1;33m(\u001b[0m\u001b[0moverlap\u001b[0m\u001b[1;33m)\u001b[0m \u001b[1;33m>\u001b[0m \u001b[1;36m1\u001b[0m\u001b[1;33m:\u001b[0m\u001b[1;33m\u001b[0m\u001b[1;33m\u001b[0m\u001b[0m\n",
      "\u001b[1;31mValueError\u001b[0m: cannot join with no level specified and no overlapping names"
     ]
    }
   ],
   "source": [
    "#Dissolve by route and stop_id\n",
    "stops_routes=full.dissolve(by=['stop_id','route_short_name'])\n",
    "stops_routes.head()"
   ]
  },
  {
   "cell_type": "code",
   "execution_count": 6,
   "metadata": {},
   "outputs": [
    {
     "ename": "NameError",
     "evalue": "name 'stops_routes' is not defined",
     "output_type": "error",
     "traceback": [
      "\u001b[1;31m---------------------------------------------------------------------------\u001b[0m",
      "\u001b[1;31mNameError\u001b[0m                                 Traceback (most recent call last)",
      "\u001b[1;32m<ipython-input-6-214df34163e5>\u001b[0m in \u001b[0;36m<module>\u001b[1;34m\u001b[0m\n\u001b[1;32m----> 1\u001b[1;33m \u001b[0mroutes_stop_count\u001b[0m\u001b[1;33m=\u001b[0m\u001b[0mstops_routes\u001b[0m\u001b[1;33m.\u001b[0m\u001b[0mdissolve\u001b[0m\u001b[1;33m(\u001b[0m\u001b[0mby\u001b[0m\u001b[1;33m=\u001b[0m\u001b[1;34m'route_short_name'\u001b[0m\u001b[1;33m,\u001b[0m\u001b[0maggfunc\u001b[0m\u001b[1;33m=\u001b[0m\u001b[1;34m'count'\u001b[0m\u001b[1;33m)\u001b[0m\u001b[1;33m\u001b[0m\u001b[1;33m\u001b[0m\u001b[0m\n\u001b[0m\u001b[0;32m      2\u001b[0m \u001b[0mroutes_stop_count\u001b[0m\u001b[1;33m[\u001b[0m\u001b[1;34m'Stops'\u001b[0m\u001b[1;33m]\u001b[0m\u001b[1;33m=\u001b[0m\u001b[0mroutes_stop_count\u001b[0m\u001b[1;33m[\u001b[0m\u001b[1;34m'trip_id'\u001b[0m\u001b[1;33m]\u001b[0m\u001b[1;33m\u001b[0m\u001b[1;33m\u001b[0m\u001b[0m\n\u001b[0;32m      3\u001b[0m \u001b[0mroutes_stop_count\u001b[0m\u001b[1;33m.\u001b[0m\u001b[0mdrop\u001b[0m\u001b[1;33m(\u001b[0m\u001b[0mroutes_stop_count\u001b[0m\u001b[1;33m.\u001b[0m\u001b[0mcolumns\u001b[0m\u001b[1;33m.\u001b[0m\u001b[0mdifference\u001b[0m\u001b[1;33m(\u001b[0m\u001b[1;33m[\u001b[0m\u001b[1;34m'route_short_name'\u001b[0m\u001b[1;33m,\u001b[0m\u001b[1;34m'Stops'\u001b[0m\u001b[1;33m]\u001b[0m\u001b[1;33m)\u001b[0m\u001b[1;33m,\u001b[0m\u001b[1;36m1\u001b[0m\u001b[1;33m,\u001b[0m\u001b[0minplace\u001b[0m\u001b[1;33m=\u001b[0m\u001b[1;32mTrue\u001b[0m\u001b[1;33m)\u001b[0m\u001b[1;33m\u001b[0m\u001b[1;33m\u001b[0m\u001b[0m\n\u001b[0;32m      4\u001b[0m \u001b[0mroutes_stop_count\u001b[0m\u001b[1;33m.\u001b[0m\u001b[0mhead\u001b[0m\u001b[1;33m(\u001b[0m\u001b[1;33m)\u001b[0m\u001b[1;33m\u001b[0m\u001b[1;33m\u001b[0m\u001b[0m\n",
      "\u001b[1;31mNameError\u001b[0m: name 'stops_routes' is not defined"
     ]
    }
   ],
   "source": [
    "routes_stop_count=stops_routes.dissolve(by='route_short_name',aggfunc='count')\n",
    "routes_stop_count['Stops']=routes_stop_count['trip_id']\n",
    "routes_stop_count.drop(routes_stop_count.columns.difference(['route_short_name','Stops']),1,inplace=True)\n",
    "routes_stop_count.head()"
   ]
  },
  {
   "cell_type": "code",
   "execution_count": null,
   "metadata": {},
   "outputs": [],
   "source": [
    "geostops=gpd.sjoin(full,city_limits)\n",
    "geostops"
   ]
  },
  {
   "cell_type": "code",
   "execution_count": null,
   "metadata": {},
   "outputs": [],
   "source": [
    "stops_cities=geostops.dissolve(['route_short_name','stop_id'])"
   ]
  },
  {
   "cell_type": "code",
   "execution_count": null,
   "metadata": {},
   "outputs": [],
   "source": [
    "stop_cities_count=stops_cities.dissolve(by=['route_short_name','CITY'],aggfunc='count')\n",
    "stop_cities_count['Stops']=stop_cities_count['trip_id']\n",
    "stop_cities_count.drop(stop_cities_count.columns.difference(['route_short_name','Stops']),1,inplace=True)\n",
    "stop_cities_count.head()"
   ]
  },
  {
   "cell_type": "code",
   "execution_count": null,
   "metadata": {},
   "outputs": [],
   "source": [
    "final=stop_cities_count.join(routes_stop_count,on='route_short_name',lsuffix='_city',rsuffix='_total')\n",
    "final"
   ]
  },
  {
   "cell_type": "code",
   "execution_count": null,
   "metadata": {},
   "outputs": [],
   "source": [
    "# final.to_excel(r\"P:\\Projects\\Professional Services\\Local Allocations\\No_44_StopsByJurisdiction.xlsx\",merge_cells=False)"
   ]
  },
  {
   "cell_type": "code",
   "execution_count": null,
   "metadata": {},
   "outputs": [],
   "source": []
  }
 ],
 "metadata": {
  "kernelspec": {
   "display_name": "Python 3",
   "language": "python",
   "name": "python3"
  },
  "language_info": {
   "codemirror_mode": {
    "name": "ipython",
    "version": 3
   },
   "file_extension": ".py",
   "mimetype": "text/x-python",
   "name": "python",
   "nbconvert_exporter": "python",
   "pygments_lexer": "ipython3",
   "version": "3.7.1"
  }
 },
 "nbformat": 4,
 "nbformat_minor": 2
}
